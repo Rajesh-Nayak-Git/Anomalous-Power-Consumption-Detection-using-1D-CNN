{
 "cells": [
  {
   "cell_type": "code",
   "execution_count": 1,
   "id": "7a53f840",
   "metadata": {},
   "outputs": [],
   "source": [
    "import pandas as pd\n",
    "import numpy as np\n",
    "import matplotlib.pyplot as plt\n",
    "from sklearn.model_selection import train_test_split\n",
    "from sklearn.utils import shuffle\n",
    "from sklearn.metrics import precision_score, recall_score, accuracy_score, f1_score, roc_curve, roc_auc_score"
   ]
  },
  {
   "cell_type": "code",
   "execution_count": 2,
   "id": "31488149",
   "metadata": {},
   "outputs": [],
   "source": [
    "from keras.models import Sequential\n",
    "from keras.layers import Dense\n",
    "from keras.layers import Flatten\n",
    "from keras.layers import Dropout\n",
    "from keras.layers.convolutional import Conv1D\n",
    "from keras.layers.convolutional import MaxPooling1D\n",
    "from keras.layers import GlobalMaxPooling1D"
   ]
  },
  {
   "cell_type": "code",
   "execution_count": 3,
   "id": "ab0dc692",
   "metadata": {},
   "outputs": [],
   "source": [
    "from sklearn.preprocessing import MinMaxScaler\n",
    "from tensorflow.keras.utils  import to_categorical"
   ]
  },
  {
   "cell_type": "code",
   "execution_count": 4,
   "id": "c9c41459",
   "metadata": {},
   "outputs": [],
   "source": [
    "df=pd.read_csv(\"Appliance_2.csv\")"
   ]
  },
  {
   "cell_type": "code",
   "execution_count": 5,
   "id": "3dfe9b24",
   "metadata": {},
   "outputs": [
    {
     "data": {
      "text/html": [
       "<div>\n",
       "<style scoped>\n",
       "    .dataframe tbody tr th:only-of-type {\n",
       "        vertical-align: middle;\n",
       "    }\n",
       "\n",
       "    .dataframe tbody tr th {\n",
       "        vertical-align: top;\n",
       "    }\n",
       "\n",
       "    .dataframe thead th {\n",
       "        text-align: right;\n",
       "    }\n",
       "</style>\n",
       "<table border=\"1\" class=\"dataframe\">\n",
       "  <thead>\n",
       "    <tr style=\"text-align: right;\">\n",
       "      <th></th>\n",
       "      <th>Occupancy</th>\n",
       "      <th>Appliance ID</th>\n",
       "      <th>Sin(time)</th>\n",
       "      <th>Cos(time)</th>\n",
       "      <th>Sin(day)</th>\n",
       "      <th>Cos(day)</th>\n",
       "      <th>Power consumption</th>\n",
       "      <th>Normalized power</th>\n",
       "      <th>P(t)-P(t-1)</th>\n",
       "      <th>P(t)-P(t+1)</th>\n",
       "      <th>Class Label</th>\n",
       "    </tr>\n",
       "  </thead>\n",
       "  <tbody>\n",
       "    <tr>\n",
       "      <th>0</th>\n",
       "      <td>0</td>\n",
       "      <td>2</td>\n",
       "      <td>0.00000</td>\n",
       "      <td>1.00000</td>\n",
       "      <td>0.0</td>\n",
       "      <td>1.0</td>\n",
       "      <td>5</td>\n",
       "      <td>-0.22512</td>\n",
       "      <td>5</td>\n",
       "      <td>-116</td>\n",
       "      <td>0</td>\n",
       "    </tr>\n",
       "    <tr>\n",
       "      <th>1</th>\n",
       "      <td>1</td>\n",
       "      <td>2</td>\n",
       "      <td>0.25882</td>\n",
       "      <td>0.96593</td>\n",
       "      <td>0.0</td>\n",
       "      <td>1.0</td>\n",
       "      <td>121</td>\n",
       "      <td>-0.16067</td>\n",
       "      <td>116</td>\n",
       "      <td>120</td>\n",
       "      <td>1</td>\n",
       "    </tr>\n",
       "    <tr>\n",
       "      <th>2</th>\n",
       "      <td>1</td>\n",
       "      <td>2</td>\n",
       "      <td>0.50000</td>\n",
       "      <td>0.86603</td>\n",
       "      <td>0.0</td>\n",
       "      <td>1.0</td>\n",
       "      <td>1</td>\n",
       "      <td>-0.22734</td>\n",
       "      <td>-120</td>\n",
       "      <td>-2</td>\n",
       "      <td>2</td>\n",
       "    </tr>\n",
       "    <tr>\n",
       "      <th>3</th>\n",
       "      <td>0</td>\n",
       "      <td>2</td>\n",
       "      <td>0.70711</td>\n",
       "      <td>0.70711</td>\n",
       "      <td>0.0</td>\n",
       "      <td>1.0</td>\n",
       "      <td>3</td>\n",
       "      <td>-0.22623</td>\n",
       "      <td>2</td>\n",
       "      <td>2</td>\n",
       "      <td>0</td>\n",
       "    </tr>\n",
       "    <tr>\n",
       "      <th>4</th>\n",
       "      <td>1</td>\n",
       "      <td>2</td>\n",
       "      <td>0.86603</td>\n",
       "      <td>0.50000</td>\n",
       "      <td>0.0</td>\n",
       "      <td>1.0</td>\n",
       "      <td>1</td>\n",
       "      <td>-0.22734</td>\n",
       "      <td>-2</td>\n",
       "      <td>0</td>\n",
       "      <td>0</td>\n",
       "    </tr>\n",
       "  </tbody>\n",
       "</table>\n",
       "</div>"
      ],
      "text/plain": [
       "   Occupancy  Appliance ID  Sin(time)  Cos(time)  Sin(day)  Cos(day)  \\\n",
       "0          0             2    0.00000    1.00000       0.0       1.0   \n",
       "1          1             2    0.25882    0.96593       0.0       1.0   \n",
       "2          1             2    0.50000    0.86603       0.0       1.0   \n",
       "3          0             2    0.70711    0.70711       0.0       1.0   \n",
       "4          1             2    0.86603    0.50000       0.0       1.0   \n",
       "\n",
       "   Power consumption  Normalized power  P(t)-P(t-1)  P(t)-P(t+1)  Class Label  \n",
       "0                  5          -0.22512            5         -116            0  \n",
       "1                121          -0.16067          116          120            1  \n",
       "2                  1          -0.22734         -120           -2            2  \n",
       "3                  3          -0.22623            2            2            0  \n",
       "4                  1          -0.22734           -2            0            0  "
      ]
     },
     "execution_count": 5,
     "metadata": {},
     "output_type": "execute_result"
    }
   ],
   "source": [
    "df.head()"
   ]
  },
  {
   "cell_type": "code",
   "execution_count": 6,
   "id": "b70e013a",
   "metadata": {},
   "outputs": [
    {
     "data": {
      "text/plain": [
       "Index(['Occupancy', 'Appliance ID', 'Sin(time)', 'Cos(time)', 'Sin(day)',\n",
       "       'Cos(day)', 'Power consumption', 'Normalized power', 'P(t)-P(t-1)',\n",
       "       'P(t)-P(t+1)', 'Class Label'],\n",
       "      dtype='object')"
      ]
     },
     "execution_count": 6,
     "metadata": {},
     "output_type": "execute_result"
    }
   ],
   "source": [
    "df.columns"
   ]
  },
  {
   "cell_type": "code",
   "execution_count": 7,
   "id": "6fbf8bc4",
   "metadata": {},
   "outputs": [
    {
     "data": {
      "text/html": [
       "<div>\n",
       "<style scoped>\n",
       "    .dataframe tbody tr th:only-of-type {\n",
       "        vertical-align: middle;\n",
       "    }\n",
       "\n",
       "    .dataframe tbody tr th {\n",
       "        vertical-align: top;\n",
       "    }\n",
       "\n",
       "    .dataframe thead th {\n",
       "        text-align: right;\n",
       "    }\n",
       "</style>\n",
       "<table border=\"1\" class=\"dataframe\">\n",
       "  <thead>\n",
       "    <tr style=\"text-align: right;\">\n",
       "      <th></th>\n",
       "      <th>Occupancy</th>\n",
       "      <th>Appliance ID</th>\n",
       "      <th>Sin(time)</th>\n",
       "      <th>Cos(time)</th>\n",
       "      <th>Sin(day)</th>\n",
       "      <th>Cos(day)</th>\n",
       "      <th>Power consumption</th>\n",
       "      <th>Normalized power</th>\n",
       "      <th>P(t)-P(t-1)</th>\n",
       "      <th>P(t)-P(t+1)</th>\n",
       "      <th>Class Label</th>\n",
       "    </tr>\n",
       "  </thead>\n",
       "  <tbody>\n",
       "    <tr>\n",
       "      <th>16416</th>\n",
       "      <td>0</td>\n",
       "      <td>2</td>\n",
       "      <td>0.00000</td>\n",
       "      <td>1.00000</td>\n",
       "      <td>-0.71166</td>\n",
       "      <td>0.702530</td>\n",
       "      <td>3</td>\n",
       "      <td>-0.226230</td>\n",
       "      <td>-1</td>\n",
       "      <td>0</td>\n",
       "      <td>0</td>\n",
       "    </tr>\n",
       "    <tr>\n",
       "      <th>833</th>\n",
       "      <td>1</td>\n",
       "      <td>2</td>\n",
       "      <td>-0.96593</td>\n",
       "      <td>-0.25882</td>\n",
       "      <td>0.55244</td>\n",
       "      <td>0.833560</td>\n",
       "      <td>93</td>\n",
       "      <td>-0.176230</td>\n",
       "      <td>-173</td>\n",
       "      <td>-18</td>\n",
       "      <td>0</td>\n",
       "    </tr>\n",
       "    <tr>\n",
       "      <th>10918</th>\n",
       "      <td>0</td>\n",
       "      <td>2</td>\n",
       "      <td>-0.50000</td>\n",
       "      <td>0.86603</td>\n",
       "      <td>0.99925</td>\n",
       "      <td>0.038722</td>\n",
       "      <td>277</td>\n",
       "      <td>-0.074004</td>\n",
       "      <td>22</td>\n",
       "      <td>276</td>\n",
       "      <td>3</td>\n",
       "    </tr>\n",
       "    <tr>\n",
       "      <th>4625</th>\n",
       "      <td>1</td>\n",
       "      <td>2</td>\n",
       "      <td>-0.96593</td>\n",
       "      <td>-0.25882</td>\n",
       "      <td>-0.16281</td>\n",
       "      <td>-0.986660</td>\n",
       "      <td>133</td>\n",
       "      <td>-0.154000</td>\n",
       "      <td>-157</td>\n",
       "      <td>79</td>\n",
       "      <td>0</td>\n",
       "    </tr>\n",
       "    <tr>\n",
       "      <th>12359</th>\n",
       "      <td>1</td>\n",
       "      <td>2</td>\n",
       "      <td>-0.25882</td>\n",
       "      <td>0.96593</td>\n",
       "      <td>0.54524</td>\n",
       "      <td>-0.838280</td>\n",
       "      <td>271</td>\n",
       "      <td>-0.077337</td>\n",
       "      <td>203</td>\n",
       "      <td>266</td>\n",
       "      <td>3</td>\n",
       "    </tr>\n",
       "    <tr>\n",
       "      <th>...</th>\n",
       "      <td>...</td>\n",
       "      <td>...</td>\n",
       "      <td>...</td>\n",
       "      <td>...</td>\n",
       "      <td>...</td>\n",
       "      <td>...</td>\n",
       "      <td>...</td>\n",
       "      <td>...</td>\n",
       "      <td>...</td>\n",
       "      <td>...</td>\n",
       "      <td>...</td>\n",
       "    </tr>\n",
       "    <tr>\n",
       "      <th>16153</th>\n",
       "      <td>1</td>\n",
       "      <td>2</td>\n",
       "      <td>0.25882</td>\n",
       "      <td>0.96593</td>\n",
       "      <td>-0.83117</td>\n",
       "      <td>0.556020</td>\n",
       "      <td>81</td>\n",
       "      <td>-0.182890</td>\n",
       "      <td>-73</td>\n",
       "      <td>-207</td>\n",
       "      <td>0</td>\n",
       "    </tr>\n",
       "    <tr>\n",
       "      <th>10349</th>\n",
       "      <td>1</td>\n",
       "      <td>2</td>\n",
       "      <td>0.96593</td>\n",
       "      <td>0.25882</td>\n",
       "      <td>0.90701</td>\n",
       "      <td>0.421100</td>\n",
       "      <td>2</td>\n",
       "      <td>-0.226780</td>\n",
       "      <td>0</td>\n",
       "      <td>-1</td>\n",
       "      <td>0</td>\n",
       "    </tr>\n",
       "    <tr>\n",
       "      <th>10127</th>\n",
       "      <td>1</td>\n",
       "      <td>2</td>\n",
       "      <td>-0.25882</td>\n",
       "      <td>0.96593</td>\n",
       "      <td>0.82148</td>\n",
       "      <td>0.570240</td>\n",
       "      <td>4</td>\n",
       "      <td>-0.225670</td>\n",
       "      <td>-95</td>\n",
       "      <td>3</td>\n",
       "      <td>2</td>\n",
       "    </tr>\n",
       "    <tr>\n",
       "      <th>13630</th>\n",
       "      <td>0</td>\n",
       "      <td>2</td>\n",
       "      <td>-0.50000</td>\n",
       "      <td>0.86603</td>\n",
       "      <td>-0.32941</td>\n",
       "      <td>-0.944190</td>\n",
       "      <td>293</td>\n",
       "      <td>-0.065115</td>\n",
       "      <td>53</td>\n",
       "      <td>0</td>\n",
       "      <td>3</td>\n",
       "    </tr>\n",
       "    <tr>\n",
       "      <th>2847</th>\n",
       "      <td>1</td>\n",
       "      <td>2</td>\n",
       "      <td>-0.70711</td>\n",
       "      <td>-0.70711</td>\n",
       "      <td>0.89584</td>\n",
       "      <td>-0.444380</td>\n",
       "      <td>124</td>\n",
       "      <td>-0.159000</td>\n",
       "      <td>-57</td>\n",
       "      <td>-175</td>\n",
       "      <td>0</td>\n",
       "    </tr>\n",
       "  </tbody>\n",
       "</table>\n",
       "<p>17520 rows × 11 columns</p>\n",
       "</div>"
      ],
      "text/plain": [
       "       Occupancy  Appliance ID  Sin(time)  Cos(time)  Sin(day)  Cos(day)  \\\n",
       "16416          0             2    0.00000    1.00000  -0.71166  0.702530   \n",
       "833            1             2   -0.96593   -0.25882   0.55244  0.833560   \n",
       "10918          0             2   -0.50000    0.86603   0.99925  0.038722   \n",
       "4625           1             2   -0.96593   -0.25882  -0.16281 -0.986660   \n",
       "12359          1             2   -0.25882    0.96593   0.54524 -0.838280   \n",
       "...          ...           ...        ...        ...       ...       ...   \n",
       "16153          1             2    0.25882    0.96593  -0.83117  0.556020   \n",
       "10349          1             2    0.96593    0.25882   0.90701  0.421100   \n",
       "10127          1             2   -0.25882    0.96593   0.82148  0.570240   \n",
       "13630          0             2   -0.50000    0.86603  -0.32941 -0.944190   \n",
       "2847           1             2   -0.70711   -0.70711   0.89584 -0.444380   \n",
       "\n",
       "       Power consumption  Normalized power  P(t)-P(t-1)  P(t)-P(t+1)  \\\n",
       "16416                  3         -0.226230           -1            0   \n",
       "833                   93         -0.176230         -173          -18   \n",
       "10918                277         -0.074004           22          276   \n",
       "4625                 133         -0.154000         -157           79   \n",
       "12359                271         -0.077337          203          266   \n",
       "...                  ...               ...          ...          ...   \n",
       "16153                 81         -0.182890          -73         -207   \n",
       "10349                  2         -0.226780            0           -1   \n",
       "10127                  4         -0.225670          -95            3   \n",
       "13630                293         -0.065115           53            0   \n",
       "2847                 124         -0.159000          -57         -175   \n",
       "\n",
       "       Class Label  \n",
       "16416            0  \n",
       "833              0  \n",
       "10918            3  \n",
       "4625             0  \n",
       "12359            3  \n",
       "...            ...  \n",
       "16153            0  \n",
       "10349            0  \n",
       "10127            2  \n",
       "13630            3  \n",
       "2847             0  \n",
       "\n",
       "[17520 rows x 11 columns]"
      ]
     },
     "execution_count": 7,
     "metadata": {},
     "output_type": "execute_result"
    }
   ],
   "source": [
    "shuffle(df)"
   ]
  },
  {
   "cell_type": "code",
   "execution_count": 8,
   "id": "6d8a3d40",
   "metadata": {},
   "outputs": [],
   "source": [
    "# Split the data into train and test sets\n",
    "train_size = int(len(df)*0.8)\n",
    "train, test = df.iloc[:train_size],df.iloc[train_size:]"
   ]
  },
  {
   "cell_type": "code",
   "execution_count": 9,
   "id": "09d36d1b",
   "metadata": {},
   "outputs": [],
   "source": [
    "# Split train and test sets into predictors (X) and outcome (y) variables\n",
    "x_train = train.drop('Class Label', axis = 1)\n",
    "y_train = train.loc[:,['Class Label']]\n",
    "x_test = test.drop('Class Label', axis = 1)\n",
    "y_test = test.loc[:,['Class Label']]"
   ]
  },
  {
   "cell_type": "code",
   "execution_count": 10,
   "id": "ce541128",
   "metadata": {},
   "outputs": [],
   "source": [
    "# Scale the X data \n",
    "scaler_x = MinMaxScaler(feature_range = (0,1))\n",
    "input_scaler = scaler_x.fit(x_train)\n",
    "train_x_norm = input_scaler.transform(x_train)\n",
    "test_x_norm = input_scaler.transform(x_test)"
   ]
  },
  {
   "cell_type": "code",
   "execution_count": 11,
   "id": "b2d2be5d",
   "metadata": {},
   "outputs": [],
   "source": [
    "# One-hot encode y data\n",
    "y_train = to_categorical(y_train)\n",
    "y_test = to_categorical(y_test)"
   ]
  },
  {
   "cell_type": "code",
   "execution_count": 12,
   "id": "66cf1d05",
   "metadata": {},
   "outputs": [
    {
     "data": {
      "text/plain": [
       "((14016, 10), (3504, 10), (14016, 5), (3504, 5))"
      ]
     },
     "execution_count": 12,
     "metadata": {},
     "output_type": "execute_result"
    }
   ],
   "source": [
    "x_train.shape, x_test.shape, y_train.shape, y_test.shape"
   ]
  },
  {
   "cell_type": "code",
   "execution_count": 13,
   "id": "8188b677",
   "metadata": {},
   "outputs": [],
   "source": [
    "x_train=np.array(x_train)\n",
    "y_train=np.array(y_train)\n",
    "x_test=np.array(x_test)\n",
    "y_test=np.array(y_test)"
   ]
  },
  {
   "cell_type": "code",
   "execution_count": 14,
   "id": "fb2196c2",
   "metadata": {},
   "outputs": [],
   "source": [
    "x_train = x_train.reshape(x_train.shape[0],x_train.shape[1], 1)\n",
    "x_test = x_test.reshape(x_test.shape[0], x_test.shape[1], 1)"
   ]
  },
  {
   "cell_type": "code",
   "execution_count": 15,
   "id": "c79d2f1d",
   "metadata": {},
   "outputs": [
    {
     "data": {
      "text/plain": [
       "((14016, 10, 1), (3504, 10, 1), (14016, 5), (3504, 5))"
      ]
     },
     "execution_count": 15,
     "metadata": {},
     "output_type": "execute_result"
    }
   ],
   "source": [
    "x_train.shape,x_test.shape,y_train.shape,y_test.shape"
   ]
  },
  {
   "cell_type": "code",
   "execution_count": 16,
   "id": "bd34113a",
   "metadata": {},
   "outputs": [],
   "source": [
    "verbose, epochs, batch_size = 1, 50, 32\n",
    "n_timesteps, n_features = x_train.shape[1], x_train.shape[2]"
   ]
  },
  {
   "cell_type": "code",
   "execution_count": 17,
   "id": "825dc0a3",
   "metadata": {},
   "outputs": [],
   "source": [
    "# Define the model architecture\n",
    "model = Sequential()\n",
    "model.add(Conv1D(filters=16, kernel_size=3, activation='relu', input_shape=(10, 1)))\n",
    "model.add(Conv1D(filters=16, kernel_size=3, activation='relu'))\n",
    "model.add(Conv1D(filters=16, kernel_size=3, activation='relu'))\n",
    "model.add(GlobalMaxPooling1D())\n",
    "model.add(Dense(64, activation='relu'))\n",
    "model.add(Dropout(0.1))\n",
    "model.add(Dense(5, activation='softmax'))"
   ]
  },
  {
   "cell_type": "code",
   "execution_count": 18,
   "id": "eddbbd97",
   "metadata": {},
   "outputs": [
    {
     "name": "stdout",
     "output_type": "stream",
     "text": [
      "Model: \"sequential\"\n",
      "_________________________________________________________________\n",
      " Layer (type)                Output Shape              Param #   \n",
      "=================================================================\n",
      " conv1d (Conv1D)             (None, 8, 16)             64        \n",
      "                                                                 \n",
      " conv1d_1 (Conv1D)           (None, 6, 16)             784       \n",
      "                                                                 \n",
      " conv1d_2 (Conv1D)           (None, 4, 16)             784       \n",
      "                                                                 \n",
      " global_max_pooling1d (Globa  (None, 16)               0         \n",
      " lMaxPooling1D)                                                  \n",
      "                                                                 \n",
      " dense (Dense)               (None, 64)                1088      \n",
      "                                                                 \n",
      " dropout (Dropout)           (None, 64)                0         \n",
      "                                                                 \n",
      " dense_1 (Dense)             (None, 5)                 325       \n",
      "                                                                 \n",
      "=================================================================\n",
      "Total params: 3,045\n",
      "Trainable params: 3,045\n",
      "Non-trainable params: 0\n",
      "_________________________________________________________________\n"
     ]
    }
   ],
   "source": [
    "model.summary()"
   ]
  },
  {
   "cell_type": "code",
   "execution_count": 19,
   "id": "c669bf7a",
   "metadata": {},
   "outputs": [],
   "source": [
    "#compile the model\n",
    "model.compile(loss='categorical_crossentropy', optimizer='adam', metrics=['accuracy'])"
   ]
  },
  {
   "cell_type": "code",
   "execution_count": 20,
   "id": "efa9936a",
   "metadata": {
    "scrolled": true
   },
   "outputs": [
    {
     "name": "stdout",
     "output_type": "stream",
     "text": [
      "Epoch 1/50\n",
      "438/438 [==============================] - 1s 1ms/step - loss: 0.7226 - accuracy: 0.7397\n",
      "Epoch 2/50\n",
      "438/438 [==============================] - 0s 1ms/step - loss: 0.2953 - accuracy: 0.8671\n",
      "Epoch 3/50\n",
      "438/438 [==============================] - 0s 1ms/step - loss: 0.1289 - accuracy: 0.9503\n",
      "Epoch 4/50\n",
      "438/438 [==============================] - 0s 1ms/step - loss: 0.0929 - accuracy: 0.9611\n",
      "Epoch 5/50\n",
      "438/438 [==============================] - 0s 1ms/step - loss: 0.0776 - accuracy: 0.9671\n",
      "Epoch 6/50\n",
      "438/438 [==============================] - 0s 1ms/step - loss: 0.0655 - accuracy: 0.9718\n",
      "Epoch 7/50\n",
      "438/438 [==============================] - 0s 1ms/step - loss: 0.0532 - accuracy: 0.9779\n",
      "Epoch 8/50\n",
      "438/438 [==============================] - 0s 1000us/step - loss: 0.0472 - accuracy: 0.9797\n",
      "Epoch 9/50\n",
      "438/438 [==============================] - 0s 1ms/step - loss: 0.0397 - accuracy: 0.9826\n",
      "Epoch 10/50\n",
      "438/438 [==============================] - 0s 982us/step - loss: 0.0346 - accuracy: 0.9862\n",
      "Epoch 11/50\n",
      "438/438 [==============================] - 0s 984us/step - loss: 0.0397 - accuracy: 0.9839\n",
      "Epoch 12/50\n",
      "438/438 [==============================] - 0s 945us/step - loss: 0.0338 - accuracy: 0.9858\n",
      "Epoch 13/50\n",
      "438/438 [==============================] - 0s 1ms/step - loss: 0.0344 - accuracy: 0.9852\n",
      "Epoch 14/50\n",
      "438/438 [==============================] - 0s 984us/step - loss: 0.0264 - accuracy: 0.9889\n",
      "Epoch 15/50\n",
      "438/438 [==============================] - 0s 1ms/step - loss: 0.0282 - accuracy: 0.9889\n",
      "Epoch 16/50\n",
      "438/438 [==============================] - 0s 1ms/step - loss: 0.0255 - accuracy: 0.9889\n",
      "Epoch 17/50\n",
      "438/438 [==============================] - 0s 982us/step - loss: 0.0291 - accuracy: 0.9887\n",
      "Epoch 18/50\n",
      "438/438 [==============================] - 0s 1ms/step - loss: 0.0274 - accuracy: 0.9885\n",
      "Epoch 19/50\n",
      "438/438 [==============================] - 0s 966us/step - loss: 0.0243 - accuracy: 0.9899\n",
      "Epoch 20/50\n",
      "438/438 [==============================] - 0s 986us/step - loss: 0.0421 - accuracy: 0.9850\n",
      "Epoch 21/50\n",
      "438/438 [==============================] - 0s 968us/step - loss: 0.0211 - accuracy: 0.9917\n",
      "Epoch 22/50\n",
      "438/438 [==============================] - 0s 1ms/step - loss: 0.0219 - accuracy: 0.9915\n",
      "Epoch 23/50\n",
      "438/438 [==============================] - 0s 1ms/step - loss: 0.0264 - accuracy: 0.9884\n",
      "Epoch 24/50\n",
      "438/438 [==============================] - 0s 1ms/step - loss: 0.0232 - accuracy: 0.9914\n",
      "Epoch 25/50\n",
      "438/438 [==============================] - 0s 1ms/step - loss: 0.0216 - accuracy: 0.9910\n",
      "Epoch 26/50\n",
      "438/438 [==============================] - 0s 996us/step - loss: 0.0181 - accuracy: 0.9928\n",
      "Epoch 27/50\n",
      "438/438 [==============================] - 0s 1ms/step - loss: 0.0205 - accuracy: 0.9921\n",
      "Epoch 28/50\n",
      "438/438 [==============================] - 0s 991us/step - loss: 0.0229 - accuracy: 0.9907\n",
      "Epoch 29/50\n",
      "438/438 [==============================] - 0s 988us/step - loss: 0.0320 - accuracy: 0.9877\n",
      "Epoch 30/50\n",
      "438/438 [==============================] - 0s 965us/step - loss: 0.0161 - accuracy: 0.9936\n",
      "Epoch 31/50\n",
      "438/438 [==============================] - 0s 967us/step - loss: 0.0201 - accuracy: 0.9930\n",
      "Epoch 32/50\n",
      "438/438 [==============================] - 0s 976us/step - loss: 0.0153 - accuracy: 0.9941\n",
      "Epoch 33/50\n",
      "438/438 [==============================] - 0s 965us/step - loss: 0.0241 - accuracy: 0.9905\n",
      "Epoch 34/50\n",
      "438/438 [==============================] - 0s 1ms/step - loss: 0.0241 - accuracy: 0.9919\n",
      "Epoch 35/50\n",
      "438/438 [==============================] - 0s 992us/step - loss: 0.0196 - accuracy: 0.9917\n",
      "Epoch 36/50\n",
      "438/438 [==============================] - 0s 989us/step - loss: 0.0169 - accuracy: 0.9932\n",
      "Epoch 37/50\n",
      "438/438 [==============================] - 0s 1ms/step - loss: 0.0201 - accuracy: 0.9917\n",
      "Epoch 38/50\n",
      "438/438 [==============================] - 0s 998us/step - loss: 0.0172 - accuracy: 0.9932\n",
      "Epoch 39/50\n",
      "438/438 [==============================] - 0s 1ms/step - loss: 0.0175 - accuracy: 0.9930\n",
      "Epoch 40/50\n",
      "438/438 [==============================] - 0s 1ms/step - loss: 0.0305 - accuracy: 0.9884\n",
      "Epoch 41/50\n",
      "438/438 [==============================] - 0s 1ms/step - loss: 0.0183 - accuracy: 0.9927\n",
      "Epoch 42/50\n",
      "438/438 [==============================] - 0s 1ms/step - loss: 0.0192 - accuracy: 0.9924\n",
      "Epoch 43/50\n",
      "438/438 [==============================] - 0s 1ms/step - loss: 0.0189 - accuracy: 0.9920\n",
      "Epoch 44/50\n",
      "438/438 [==============================] - 0s 1ms/step - loss: 0.0157 - accuracy: 0.9940\n",
      "Epoch 45/50\n",
      "438/438 [==============================] - 0s 1ms/step - loss: 0.0152 - accuracy: 0.9941\n",
      "Epoch 46/50\n",
      "438/438 [==============================] - 0s 961us/step - loss: 0.0162 - accuracy: 0.9934\n",
      "Epoch 47/50\n",
      "438/438 [==============================] - 0s 1ms/step - loss: 0.0187 - accuracy: 0.9924\n",
      "Epoch 48/50\n",
      "438/438 [==============================] - 0s 996us/step - loss: 0.0211 - accuracy: 0.9924\n",
      "Epoch 49/50\n",
      "438/438 [==============================] - 0s 969us/step - loss: 0.0142 - accuracy: 0.9937\n",
      "Epoch 50/50\n",
      "438/438 [==============================] - 0s 977us/step - loss: 0.0179 - accuracy: 0.9923\n"
     ]
    },
    {
     "data": {
      "text/plain": [
       "<keras.callbacks.History at 0x2b3a23d1e20>"
      ]
     },
     "execution_count": 20,
     "metadata": {},
     "output_type": "execute_result"
    }
   ],
   "source": [
    "#fit the model\n",
    "model.fit(x_train, y_train, epochs=epochs, batch_size=batch_size, verbose=verbose)"
   ]
  },
  {
   "cell_type": "code",
   "execution_count": 21,
   "id": "e26d9ee1",
   "metadata": {},
   "outputs": [
    {
     "name": "stdout",
     "output_type": "stream",
     "text": [
      "110/110 [==============================] - 0s 702us/step - loss: 0.0232 - accuracy: 0.9877\n"
     ]
    }
   ],
   "source": [
    "_, accuracy = model.evaluate(x_test, y_test, batch_size=batch_size, verbose=verbose)\n",
    "#  return accuracy"
   ]
  },
  {
   "cell_type": "code",
   "execution_count": 22,
   "id": "9502b3e7",
   "metadata": {},
   "outputs": [
    {
     "data": {
      "text/plain": [
       "0.9877282977104187"
      ]
     },
     "execution_count": 22,
     "metadata": {},
     "output_type": "execute_result"
    }
   ],
   "source": [
    "accuracy"
   ]
  },
  {
   "cell_type": "code",
   "execution_count": 23,
   "id": "8dbc03e2",
   "metadata": {},
   "outputs": [
    {
     "name": "stdout",
     "output_type": "stream",
     "text": [
      "110/110 [==============================] - 0s 624us/step\n"
     ]
    }
   ],
   "source": [
    "prediction = model.predict(x_test)"
   ]
  },
  {
   "cell_type": "code",
   "execution_count": 24,
   "id": "81f3c6d0",
   "metadata": {},
   "outputs": [],
   "source": [
    "# prediction[1]"
   ]
  },
  {
   "cell_type": "code",
   "execution_count": 25,
   "id": "fe244d96",
   "metadata": {},
   "outputs": [
    {
     "data": {
      "text/plain": [
       "array([[0., 0., 1., 0., 0.],\n",
       "       [1., 0., 0., 0., 0.],\n",
       "       [1., 0., 0., 0., 0.],\n",
       "       ...,\n",
       "       [0., 0., 0., 0., 1.],\n",
       "       [0., 0., 0., 0., 1.],\n",
       "       [0., 0., 0., 0., 1.]], dtype=float32)"
      ]
     },
     "execution_count": 25,
     "metadata": {},
     "output_type": "execute_result"
    }
   ],
   "source": [
    "y_test"
   ]
  },
  {
   "cell_type": "code",
   "execution_count": 26,
   "id": "6cf4e24c",
   "metadata": {},
   "outputs": [],
   "source": [
    "# prediction_NN = np.argmax(prediction[1], axis=-1)"
   ]
  },
  {
   "cell_type": "code",
   "execution_count": 27,
   "id": "74f359b1",
   "metadata": {},
   "outputs": [],
   "source": [
    "prediction_NN=np.argmax(prediction, axis=-1)"
   ]
  },
  {
   "cell_type": "code",
   "execution_count": 28,
   "id": "1c390d0e",
   "metadata": {},
   "outputs": [
    {
     "data": {
      "text/plain": [
       "array([2, 0, 0, ..., 4, 4, 4], dtype=int64)"
      ]
     },
     "execution_count": 28,
     "metadata": {},
     "output_type": "execute_result"
    }
   ],
   "source": [
    "prediction_NN"
   ]
  },
  {
   "cell_type": "code",
   "execution_count": 29,
   "id": "d7e31561",
   "metadata": {},
   "outputs": [],
   "source": [
    "y_test1 = test.loc[:,['Class Label']]"
   ]
  },
  {
   "cell_type": "code",
   "execution_count": 30,
   "id": "2f590454",
   "metadata": {},
   "outputs": [],
   "source": [
    "y_test1=np.array(y_test1)"
   ]
  },
  {
   "cell_type": "code",
   "execution_count": 31,
   "id": "b3b93ce8",
   "metadata": {},
   "outputs": [
    {
     "data": {
      "text/plain": [
       "array([[2],\n",
       "       [0],\n",
       "       [0],\n",
       "       ...,\n",
       "       [4],\n",
       "       [4],\n",
       "       [4]], dtype=int64)"
      ]
     },
     "execution_count": 31,
     "metadata": {},
     "output_type": "execute_result"
    }
   ],
   "source": [
    "y_test1"
   ]
  },
  {
   "cell_type": "code",
   "execution_count": 32,
   "id": "9cf6e1fa",
   "metadata": {},
   "outputs": [
    {
     "name": "stdout",
     "output_type": "stream",
     "text": [
      "Accuracy =  0.9877283105022832\n"
     ]
    }
   ],
   "source": [
    "from sklearn import metrics\n",
    "print (\"Accuracy = \", metrics.accuracy_score(y_test1, prediction_NN))"
   ]
  },
  {
   "cell_type": "code",
   "execution_count": 33,
   "id": "ca70189b",
   "metadata": {},
   "outputs": [
    {
     "name": "stdout",
     "output_type": "stream",
     "text": [
      "[[2068    0    0   19    0]\n",
      " [   0  284    0    0    0]\n",
      " [   0    0  284    0    0]\n",
      " [   0    0    0  177    0]\n",
      " [   0    0    0   24  648]]\n"
     ]
    }
   ],
   "source": [
    "#Confusion Matrix - verify accuracy of each class\n",
    "from sklearn.metrics import confusion_matrix\n",
    "cm = confusion_matrix(y_test1, prediction_NN)\n",
    "print(cm)"
   ]
  },
  {
   "cell_type": "code",
   "execution_count": 34,
   "id": "67ac2fe4",
   "metadata": {},
   "outputs": [
    {
     "name": "stdout",
     "output_type": "stream",
     "text": [
      "              precision    recall  f1-score   support\n",
      "\n",
      "     Class 0      1.000     0.991     0.995      2087\n",
      "     Class 1      1.000     1.000     1.000       284\n",
      "     Class 2      1.000     1.000     1.000       284\n",
      "     Class 3      0.805     1.000     0.892       177\n",
      "     Class 4      1.000     0.964     0.982       672\n",
      "\n",
      "    accuracy                          0.988      3504\n",
      "   macro avg      0.961     0.991     0.974      3504\n",
      "weighted avg      0.990     0.988     0.988      3504\n",
      "\n"
     ]
    }
   ],
   "source": [
    "from sklearn.metrics import classification_report\n",
    "\n",
    "# print(class_labels)\n",
    "target_names = ['Class 0', 'Class 1', 'Class 2', 'Class 3', 'Class 4']\n",
    "print(classification_report(y_test1, prediction_NN, target_names=target_names,digits=3))"
   ]
  },
  {
   "cell_type": "code",
   "execution_count": 35,
   "id": "0e44d773",
   "metadata": {},
   "outputs": [],
   "source": [
    "# !pip install mlxtend"
   ]
  },
  {
   "cell_type": "code",
   "execution_count": 36,
   "id": "6701627a",
   "metadata": {},
   "outputs": [],
   "source": [
    "# from mlxtend.plotting import plot_confusion_matrix"
   ]
  },
  {
   "cell_type": "code",
   "execution_count": 37,
   "id": "48745b9a",
   "metadata": {},
   "outputs": [],
   "source": [
    "# class_dict = {0: 'Class 0',\n",
    "#               1: 'Class 1',\n",
    "#               2: 'Class 2',\n",
    "#               3: 'Class 3',\n",
    "#               4: 'Class 4'}\n",
    "\n",
    "# multiclass = np.array([[9926,   67,   19,   56,    0],\n",
    "#                        [178,  855,    0,   41,   40],\n",
    "#                        [268,    0,  848,    0,    0],\n",
    "#                        [27,   16,    0, 2326,   15],\n",
    "#                        [0,    1,    0,   36, 6305]])\n",
    "\n",
    "# fig, ax = plot_confusion_matrix(\n",
    "#     conf_mat=multiclass,\n",
    "#     class_names=class_dict.values(),show_absolute=False,show_normed=True,colorbar=True)"
   ]
  }
 ],
 "metadata": {
  "kernelspec": {
   "display_name": "Python 3 (ipykernel)",
   "language": "python",
   "name": "python3"
  },
  "language_info": {
   "codemirror_mode": {
    "name": "ipython",
    "version": 3
   },
   "file_extension": ".py",
   "mimetype": "text/x-python",
   "name": "python",
   "nbconvert_exporter": "python",
   "pygments_lexer": "ipython3",
   "version": "3.9.13"
  }
 },
 "nbformat": 4,
 "nbformat_minor": 5
}
