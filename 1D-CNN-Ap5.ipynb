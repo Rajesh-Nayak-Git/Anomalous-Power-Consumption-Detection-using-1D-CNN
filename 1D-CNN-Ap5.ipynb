{
 "cells": [
  {
   "cell_type": "code",
   "execution_count": 1,
   "id": "7a53f840",
   "metadata": {},
   "outputs": [],
   "source": [
    "import pandas as pd\n",
    "import numpy as np\n",
    "import matplotlib.pyplot as plt\n",
    "from sklearn.model_selection import train_test_split\n",
    "from sklearn.utils import shuffle\n",
    "from sklearn.metrics import precision_score, recall_score, accuracy_score, f1_score, roc_curve, roc_auc_score"
   ]
  },
  {
   "cell_type": "code",
   "execution_count": 2,
   "id": "31488149",
   "metadata": {},
   "outputs": [],
   "source": [
    "from keras.models import Sequential\n",
    "from keras.layers import Dense\n",
    "from keras.layers import Flatten\n",
    "from keras.layers import Dropout\n",
    "from keras.layers.convolutional import Conv1D\n",
    "from keras.layers.convolutional import MaxPooling1D\n",
    "from keras.layers import GlobalMaxPooling1D"
   ]
  },
  {
   "cell_type": "code",
   "execution_count": 3,
   "id": "ab0dc692",
   "metadata": {},
   "outputs": [],
   "source": [
    "from sklearn.preprocessing import MinMaxScaler\n",
    "from tensorflow.keras.utils  import to_categorical"
   ]
  },
  {
   "cell_type": "code",
   "execution_count": 4,
   "id": "c9c41459",
   "metadata": {},
   "outputs": [],
   "source": [
    "df=pd.read_csv(\"Appliance_5.csv\")"
   ]
  },
  {
   "cell_type": "code",
   "execution_count": 5,
   "id": "3dfe9b24",
   "metadata": {},
   "outputs": [
    {
     "data": {
      "text/html": [
       "<div>\n",
       "<style scoped>\n",
       "    .dataframe tbody tr th:only-of-type {\n",
       "        vertical-align: middle;\n",
       "    }\n",
       "\n",
       "    .dataframe tbody tr th {\n",
       "        vertical-align: top;\n",
       "    }\n",
       "\n",
       "    .dataframe thead th {\n",
       "        text-align: right;\n",
       "    }\n",
       "</style>\n",
       "<table border=\"1\" class=\"dataframe\">\n",
       "  <thead>\n",
       "    <tr style=\"text-align: right;\">\n",
       "      <th></th>\n",
       "      <th>Occupancy</th>\n",
       "      <th>Appliance ID</th>\n",
       "      <th>Sin(time)</th>\n",
       "      <th>Cos(time)</th>\n",
       "      <th>Sin(day)</th>\n",
       "      <th>Cos(day)</th>\n",
       "      <th>Power consumption</th>\n",
       "      <th>Normalized power</th>\n",
       "      <th>P(t)-P(t-1)</th>\n",
       "      <th>P(t)-P(t+1)</th>\n",
       "      <th>Class Label</th>\n",
       "    </tr>\n",
       "  </thead>\n",
       "  <tbody>\n",
       "    <tr>\n",
       "      <th>0</th>\n",
       "      <td>1</td>\n",
       "      <td>5</td>\n",
       "      <td>0.00000</td>\n",
       "      <td>1.00000</td>\n",
       "      <td>0.0</td>\n",
       "      <td>1.0</td>\n",
       "      <td>1406</td>\n",
       "      <td>0.55322</td>\n",
       "      <td>1406</td>\n",
       "      <td>335</td>\n",
       "      <td>1</td>\n",
       "    </tr>\n",
       "    <tr>\n",
       "      <th>1</th>\n",
       "      <td>0</td>\n",
       "      <td>5</td>\n",
       "      <td>0.25882</td>\n",
       "      <td>0.96593</td>\n",
       "      <td>0.0</td>\n",
       "      <td>1.0</td>\n",
       "      <td>1071</td>\n",
       "      <td>0.36711</td>\n",
       "      <td>-335</td>\n",
       "      <td>361</td>\n",
       "      <td>4</td>\n",
       "    </tr>\n",
       "    <tr>\n",
       "      <th>2</th>\n",
       "      <td>0</td>\n",
       "      <td>5</td>\n",
       "      <td>0.50000</td>\n",
       "      <td>0.86603</td>\n",
       "      <td>0.0</td>\n",
       "      <td>1.0</td>\n",
       "      <td>710</td>\n",
       "      <td>0.16655</td>\n",
       "      <td>-361</td>\n",
       "      <td>-80</td>\n",
       "      <td>4</td>\n",
       "    </tr>\n",
       "    <tr>\n",
       "      <th>3</th>\n",
       "      <td>0</td>\n",
       "      <td>5</td>\n",
       "      <td>0.70711</td>\n",
       "      <td>0.70711</td>\n",
       "      <td>0.0</td>\n",
       "      <td>1.0</td>\n",
       "      <td>790</td>\n",
       "      <td>0.21100</td>\n",
       "      <td>80</td>\n",
       "      <td>69</td>\n",
       "      <td>4</td>\n",
       "    </tr>\n",
       "    <tr>\n",
       "      <th>4</th>\n",
       "      <td>0</td>\n",
       "      <td>5</td>\n",
       "      <td>0.86603</td>\n",
       "      <td>0.50000</td>\n",
       "      <td>0.0</td>\n",
       "      <td>1.0</td>\n",
       "      <td>721</td>\n",
       "      <td>0.17266</td>\n",
       "      <td>-69</td>\n",
       "      <td>-638</td>\n",
       "      <td>4</td>\n",
       "    </tr>\n",
       "  </tbody>\n",
       "</table>\n",
       "</div>"
      ],
      "text/plain": [
       "   Occupancy  Appliance ID  Sin(time)  Cos(time)  Sin(day)  Cos(day)  \\\n",
       "0          1             5    0.00000    1.00000       0.0       1.0   \n",
       "1          0             5    0.25882    0.96593       0.0       1.0   \n",
       "2          0             5    0.50000    0.86603       0.0       1.0   \n",
       "3          0             5    0.70711    0.70711       0.0       1.0   \n",
       "4          0             5    0.86603    0.50000       0.0       1.0   \n",
       "\n",
       "   Power consumption  Normalized power  P(t)-P(t-1)  P(t)-P(t+1)  Class Label  \n",
       "0               1406           0.55322         1406          335            1  \n",
       "1               1071           0.36711         -335          361            4  \n",
       "2                710           0.16655         -361          -80            4  \n",
       "3                790           0.21100           80           69            4  \n",
       "4                721           0.17266          -69         -638            4  "
      ]
     },
     "execution_count": 5,
     "metadata": {},
     "output_type": "execute_result"
    }
   ],
   "source": [
    "df.head()"
   ]
  },
  {
   "cell_type": "code",
   "execution_count": 6,
   "id": "b70e013a",
   "metadata": {},
   "outputs": [
    {
     "data": {
      "text/plain": [
       "Index(['Occupancy', 'Appliance ID', 'Sin(time)', 'Cos(time)', 'Sin(day)',\n",
       "       'Cos(day)', 'Power consumption', 'Normalized power', 'P(t)-P(t-1)',\n",
       "       'P(t)-P(t+1)', 'Class Label'],\n",
       "      dtype='object')"
      ]
     },
     "execution_count": 6,
     "metadata": {},
     "output_type": "execute_result"
    }
   ],
   "source": [
    "df.columns"
   ]
  },
  {
   "cell_type": "code",
   "execution_count": 7,
   "id": "be42669a",
   "metadata": {},
   "outputs": [
    {
     "data": {
      "text/html": [
       "<div>\n",
       "<style scoped>\n",
       "    .dataframe tbody tr th:only-of-type {\n",
       "        vertical-align: middle;\n",
       "    }\n",
       "\n",
       "    .dataframe tbody tr th {\n",
       "        vertical-align: top;\n",
       "    }\n",
       "\n",
       "    .dataframe thead th {\n",
       "        text-align: right;\n",
       "    }\n",
       "</style>\n",
       "<table border=\"1\" class=\"dataframe\">\n",
       "  <thead>\n",
       "    <tr style=\"text-align: right;\">\n",
       "      <th></th>\n",
       "      <th>Occupancy</th>\n",
       "      <th>Appliance ID</th>\n",
       "      <th>Sin(time)</th>\n",
       "      <th>Cos(time)</th>\n",
       "      <th>Sin(day)</th>\n",
       "      <th>Cos(day)</th>\n",
       "      <th>Power consumption</th>\n",
       "      <th>Normalized power</th>\n",
       "      <th>P(t)-P(t-1)</th>\n",
       "      <th>P(t)-P(t+1)</th>\n",
       "      <th>Class Label</th>\n",
       "    </tr>\n",
       "  </thead>\n",
       "  <tbody>\n",
       "    <tr>\n",
       "      <th>733</th>\n",
       "      <td>0</td>\n",
       "      <td>5</td>\n",
       "      <td>-2.588200e-01</td>\n",
       "      <td>-9.659300e-01</td>\n",
       "      <td>0.49378</td>\n",
       "      <td>0.869590</td>\n",
       "      <td>558</td>\n",
       "      <td>0.082107</td>\n",
       "      <td>-273</td>\n",
       "      <td>-722</td>\n",
       "      <td>4</td>\n",
       "    </tr>\n",
       "    <tr>\n",
       "      <th>10750</th>\n",
       "      <td>1</td>\n",
       "      <td>5</td>\n",
       "      <td>-5.000000e-01</td>\n",
       "      <td>8.660300e-01</td>\n",
       "      <td>0.98735</td>\n",
       "      <td>0.158560</td>\n",
       "      <td>1030</td>\n",
       "      <td>0.344330</td>\n",
       "      <td>-93</td>\n",
       "      <td>521</td>\n",
       "      <td>0</td>\n",
       "    </tr>\n",
       "    <tr>\n",
       "      <th>12109</th>\n",
       "      <td>1</td>\n",
       "      <td>5</td>\n",
       "      <td>-2.588200e-01</td>\n",
       "      <td>-9.659300e-01</td>\n",
       "      <td>0.68077</td>\n",
       "      <td>-0.732490</td>\n",
       "      <td>1366</td>\n",
       "      <td>0.531000</td>\n",
       "      <td>675</td>\n",
       "      <td>430</td>\n",
       "      <td>3</td>\n",
       "    </tr>\n",
       "    <tr>\n",
       "      <th>15444</th>\n",
       "      <td>1</td>\n",
       "      <td>5</td>\n",
       "      <td>1.220000e-16</td>\n",
       "      <td>-1.000000e+00</td>\n",
       "      <td>-0.99732</td>\n",
       "      <td>0.073095</td>\n",
       "      <td>1486</td>\n",
       "      <td>0.597660</td>\n",
       "      <td>-9</td>\n",
       "      <td>854</td>\n",
       "      <td>3</td>\n",
       "    </tr>\n",
       "    <tr>\n",
       "      <th>3366</th>\n",
       "      <td>0</td>\n",
       "      <td>5</td>\n",
       "      <td>1.000000e+00</td>\n",
       "      <td>6.120000e-17</td>\n",
       "      <td>0.66806</td>\n",
       "      <td>-0.744100</td>\n",
       "      <td>1296</td>\n",
       "      <td>0.492110</td>\n",
       "      <td>735</td>\n",
       "      <td>744</td>\n",
       "      <td>4</td>\n",
       "    </tr>\n",
       "    <tr>\n",
       "      <th>...</th>\n",
       "      <td>...</td>\n",
       "      <td>...</td>\n",
       "      <td>...</td>\n",
       "      <td>...</td>\n",
       "      <td>...</td>\n",
       "      <td>...</td>\n",
       "      <td>...</td>\n",
       "      <td>...</td>\n",
       "      <td>...</td>\n",
       "      <td>...</td>\n",
       "      <td>...</td>\n",
       "    </tr>\n",
       "    <tr>\n",
       "      <th>1296</th>\n",
       "      <td>0</td>\n",
       "      <td>5</td>\n",
       "      <td>0.000000e+00</td>\n",
       "      <td>1.000000e+00</td>\n",
       "      <td>0.80136</td>\n",
       "      <td>0.598180</td>\n",
       "      <td>808</td>\n",
       "      <td>0.221000</td>\n",
       "      <td>808</td>\n",
       "      <td>-638</td>\n",
       "      <td>1</td>\n",
       "    </tr>\n",
       "    <tr>\n",
       "      <th>212</th>\n",
       "      <td>1</td>\n",
       "      <td>5</td>\n",
       "      <td>-8.660300e-01</td>\n",
       "      <td>5.000000e-01</td>\n",
       "      <td>0.13728</td>\n",
       "      <td>0.990530</td>\n",
       "      <td>964</td>\n",
       "      <td>0.307660</td>\n",
       "      <td>401</td>\n",
       "      <td>-523</td>\n",
       "      <td>0</td>\n",
       "    </tr>\n",
       "    <tr>\n",
       "      <th>5321</th>\n",
       "      <td>0</td>\n",
       "      <td>5</td>\n",
       "      <td>-9.659300e-01</td>\n",
       "      <td>-2.588200e-01</td>\n",
       "      <td>-0.61528</td>\n",
       "      <td>-0.788310</td>\n",
       "      <td>717</td>\n",
       "      <td>0.170440</td>\n",
       "      <td>-366</td>\n",
       "      <td>-441</td>\n",
       "      <td>4</td>\n",
       "    </tr>\n",
       "    <tr>\n",
       "      <th>2112</th>\n",
       "      <td>1</td>\n",
       "      <td>5</td>\n",
       "      <td>0.000000e+00</td>\n",
       "      <td>1.000000e+00</td>\n",
       "      <td>0.99844</td>\n",
       "      <td>0.055917</td>\n",
       "      <td>0</td>\n",
       "      <td>-0.227890</td>\n",
       "      <td>-1496</td>\n",
       "      <td>-541</td>\n",
       "      <td>2</td>\n",
       "    </tr>\n",
       "    <tr>\n",
       "      <th>4212</th>\n",
       "      <td>1</td>\n",
       "      <td>5</td>\n",
       "      <td>1.220000e-16</td>\n",
       "      <td>-1.000000e+00</td>\n",
       "      <td>0.12875</td>\n",
       "      <td>-0.991680</td>\n",
       "      <td>676</td>\n",
       "      <td>0.147660</td>\n",
       "      <td>142</td>\n",
       "      <td>46</td>\n",
       "      <td>0</td>\n",
       "    </tr>\n",
       "  </tbody>\n",
       "</table>\n",
       "<p>17520 rows × 11 columns</p>\n",
       "</div>"
      ],
      "text/plain": [
       "       Occupancy  Appliance ID     Sin(time)     Cos(time)  Sin(day)  \\\n",
       "733            0             5 -2.588200e-01 -9.659300e-01   0.49378   \n",
       "10750          1             5 -5.000000e-01  8.660300e-01   0.98735   \n",
       "12109          1             5 -2.588200e-01 -9.659300e-01   0.68077   \n",
       "15444          1             5  1.220000e-16 -1.000000e+00  -0.99732   \n",
       "3366           0             5  1.000000e+00  6.120000e-17   0.66806   \n",
       "...          ...           ...           ...           ...       ...   \n",
       "1296           0             5  0.000000e+00  1.000000e+00   0.80136   \n",
       "212            1             5 -8.660300e-01  5.000000e-01   0.13728   \n",
       "5321           0             5 -9.659300e-01 -2.588200e-01  -0.61528   \n",
       "2112           1             5  0.000000e+00  1.000000e+00   0.99844   \n",
       "4212           1             5  1.220000e-16 -1.000000e+00   0.12875   \n",
       "\n",
       "       Cos(day)  Power consumption  Normalized power  P(t)-P(t-1)  \\\n",
       "733    0.869590                558          0.082107         -273   \n",
       "10750  0.158560               1030          0.344330          -93   \n",
       "12109 -0.732490               1366          0.531000          675   \n",
       "15444  0.073095               1486          0.597660           -9   \n",
       "3366  -0.744100               1296          0.492110          735   \n",
       "...         ...                ...               ...          ...   \n",
       "1296   0.598180                808          0.221000          808   \n",
       "212    0.990530                964          0.307660          401   \n",
       "5321  -0.788310                717          0.170440         -366   \n",
       "2112   0.055917                  0         -0.227890        -1496   \n",
       "4212  -0.991680                676          0.147660          142   \n",
       "\n",
       "       P(t)-P(t+1)  Class Label  \n",
       "733           -722            4  \n",
       "10750          521            0  \n",
       "12109          430            3  \n",
       "15444          854            3  \n",
       "3366           744            4  \n",
       "...            ...          ...  \n",
       "1296          -638            1  \n",
       "212           -523            0  \n",
       "5321          -441            4  \n",
       "2112          -541            2  \n",
       "4212            46            0  \n",
       "\n",
       "[17520 rows x 11 columns]"
      ]
     },
     "execution_count": 7,
     "metadata": {},
     "output_type": "execute_result"
    }
   ],
   "source": [
    "shuffle(df)"
   ]
  },
  {
   "cell_type": "code",
   "execution_count": 8,
   "id": "6d8a3d40",
   "metadata": {},
   "outputs": [],
   "source": [
    "# Split the data into train and test sets\n",
    "train_size = int(len(df)*0.8)\n",
    "train, test = df.iloc[:train_size],df.iloc[train_size:]"
   ]
  },
  {
   "cell_type": "code",
   "execution_count": 9,
   "id": "09d36d1b",
   "metadata": {},
   "outputs": [],
   "source": [
    "# Split train and test sets into predictors (X) and outcome (y) variables\n",
    "x_train = train.drop('Class Label', axis = 1)\n",
    "y_train = train.loc[:,['Class Label']]\n",
    "x_test = test.drop('Class Label', axis = 1)\n",
    "y_test = test.loc[:,['Class Label']]"
   ]
  },
  {
   "cell_type": "code",
   "execution_count": 10,
   "id": "ce541128",
   "metadata": {},
   "outputs": [],
   "source": [
    "# Scale the X data \n",
    "scaler_x = MinMaxScaler(feature_range = (0,1))\n",
    "input_scaler = scaler_x.fit(x_train)\n",
    "train_x_norm = input_scaler.transform(x_train)\n",
    "test_x_norm = input_scaler.transform(x_test)"
   ]
  },
  {
   "cell_type": "code",
   "execution_count": 11,
   "id": "b2d2be5d",
   "metadata": {},
   "outputs": [],
   "source": [
    "# One-hot encode y data\n",
    "y_train = to_categorical(y_train)\n",
    "y_test = to_categorical(y_test)"
   ]
  },
  {
   "cell_type": "code",
   "execution_count": 12,
   "id": "66cf1d05",
   "metadata": {},
   "outputs": [
    {
     "data": {
      "text/plain": [
       "((14016, 10), (3504, 10), (14016, 5), (3504, 5))"
      ]
     },
     "execution_count": 12,
     "metadata": {},
     "output_type": "execute_result"
    }
   ],
   "source": [
    "x_train.shape, x_test.shape, y_train.shape, y_test.shape"
   ]
  },
  {
   "cell_type": "code",
   "execution_count": 13,
   "id": "8188b677",
   "metadata": {},
   "outputs": [],
   "source": [
    "x_train=np.array(x_train)\n",
    "y_train=np.array(y_train)\n",
    "x_test=np.array(x_test)\n",
    "y_test=np.array(y_test)"
   ]
  },
  {
   "cell_type": "code",
   "execution_count": 14,
   "id": "fb2196c2",
   "metadata": {},
   "outputs": [],
   "source": [
    "x_train = x_train.reshape(x_train.shape[0],x_train.shape[1], 1)\n",
    "x_test = x_test.reshape(x_test.shape[0], x_test.shape[1], 1)"
   ]
  },
  {
   "cell_type": "code",
   "execution_count": 15,
   "id": "c79d2f1d",
   "metadata": {},
   "outputs": [
    {
     "data": {
      "text/plain": [
       "((14016, 10, 1), (3504, 10, 1), (14016, 5), (3504, 5))"
      ]
     },
     "execution_count": 15,
     "metadata": {},
     "output_type": "execute_result"
    }
   ],
   "source": [
    "x_train.shape,x_test.shape,y_train.shape,y_test.shape"
   ]
  },
  {
   "cell_type": "code",
   "execution_count": 16,
   "id": "bd34113a",
   "metadata": {},
   "outputs": [],
   "source": [
    "verbose, epochs, batch_size = 1, 50, 32\n",
    "n_timesteps, n_features = x_train.shape[1], x_train.shape[2]"
   ]
  },
  {
   "cell_type": "code",
   "execution_count": 17,
   "id": "825dc0a3",
   "metadata": {},
   "outputs": [],
   "source": [
    "# Define the model architecture\n",
    "model = Sequential()\n",
    "model.add(Conv1D(filters=16, kernel_size=3, activation='relu', input_shape=(10, 1)))\n",
    "model.add(Conv1D(filters=16, kernel_size=3, activation='relu'))\n",
    "model.add(Conv1D(filters=16, kernel_size=3, activation='relu'))\n",
    "model.add(GlobalMaxPooling1D())\n",
    "model.add(Dense(64, activation='relu'))\n",
    "model.add(Dropout(0.1))\n",
    "model.add(Dense(5, activation='softmax'))"
   ]
  },
  {
   "cell_type": "code",
   "execution_count": 18,
   "id": "eddbbd97",
   "metadata": {},
   "outputs": [
    {
     "name": "stdout",
     "output_type": "stream",
     "text": [
      "Model: \"sequential\"\n",
      "_________________________________________________________________\n",
      " Layer (type)                Output Shape              Param #   \n",
      "=================================================================\n",
      " conv1d (Conv1D)             (None, 8, 16)             64        \n",
      "                                                                 \n",
      " conv1d_1 (Conv1D)           (None, 6, 16)             784       \n",
      "                                                                 \n",
      " conv1d_2 (Conv1D)           (None, 4, 16)             784       \n",
      "                                                                 \n",
      " global_max_pooling1d (Globa  (None, 16)               0         \n",
      " lMaxPooling1D)                                                  \n",
      "                                                                 \n",
      " dense (Dense)               (None, 64)                1088      \n",
      "                                                                 \n",
      " dropout (Dropout)           (None, 64)                0         \n",
      "                                                                 \n",
      " dense_1 (Dense)             (None, 5)                 325       \n",
      "                                                                 \n",
      "=================================================================\n",
      "Total params: 3,045\n",
      "Trainable params: 3,045\n",
      "Non-trainable params: 0\n",
      "_________________________________________________________________\n"
     ]
    }
   ],
   "source": [
    "model.summary()"
   ]
  },
  {
   "cell_type": "code",
   "execution_count": 19,
   "id": "c669bf7a",
   "metadata": {},
   "outputs": [],
   "source": [
    "#compile the model\n",
    "model.compile(loss='categorical_crossentropy', optimizer='adam', metrics=['accuracy'])"
   ]
  },
  {
   "cell_type": "code",
   "execution_count": 20,
   "id": "efa9936a",
   "metadata": {
    "scrolled": true
   },
   "outputs": [
    {
     "name": "stdout",
     "output_type": "stream",
     "text": [
      "Epoch 1/50\n",
      "438/438 [==============================] - 1s 1ms/step - loss: 2.5373 - accuracy: 0.4490\n",
      "Epoch 2/50\n",
      "438/438 [==============================] - 0s 1ms/step - loss: 0.8540 - accuracy: 0.4935\n",
      "Epoch 3/50\n",
      "438/438 [==============================] - 0s 1ms/step - loss: 0.7996 - accuracy: 0.5236\n",
      "Epoch 4/50\n",
      "438/438 [==============================] - 0s 1ms/step - loss: 0.7837 - accuracy: 0.5298\n",
      "Epoch 5/50\n",
      "438/438 [==============================] - 0s 1ms/step - loss: 0.7435 - accuracy: 0.5487\n",
      "Epoch 6/50\n",
      "438/438 [==============================] - 0s 1ms/step - loss: 0.6861 - accuracy: 0.5599\n",
      "Epoch 7/50\n",
      "438/438 [==============================] - 0s 1ms/step - loss: 0.6559 - accuracy: 0.5731\n",
      "Epoch 8/50\n",
      "438/438 [==============================] - 0s 1ms/step - loss: 0.6322 - accuracy: 0.5791\n",
      "Epoch 9/50\n",
      "438/438 [==============================] - 0s 1ms/step - loss: 0.6131 - accuracy: 0.5925\n",
      "Epoch 10/50\n",
      "438/438 [==============================] - 0s 1ms/step - loss: 0.6085 - accuracy: 0.5930\n",
      "Epoch 11/50\n",
      "438/438 [==============================] - 0s 1ms/step - loss: 0.6095 - accuracy: 0.5928\n",
      "Epoch 12/50\n",
      "438/438 [==============================] - 0s 1ms/step - loss: 0.6054 - accuracy: 0.5916\n",
      "Epoch 13/50\n",
      "438/438 [==============================] - 0s 1ms/step - loss: 0.5977 - accuracy: 0.5928\n",
      "Epoch 14/50\n",
      "438/438 [==============================] - 0s 1ms/step - loss: 0.5890 - accuracy: 0.5981\n",
      "Epoch 15/50\n",
      "438/438 [==============================] - 0s 997us/step - loss: 0.5963 - accuracy: 0.5980\n",
      "Epoch 16/50\n",
      "438/438 [==============================] - 0s 1ms/step - loss: 0.5852 - accuracy: 0.5971\n",
      "Epoch 17/50\n",
      "438/438 [==============================] - 0s 1ms/step - loss: 0.5886 - accuracy: 0.5947\n",
      "Epoch 18/50\n",
      "438/438 [==============================] - 0s 1ms/step - loss: 0.5030 - accuracy: 0.7110\n",
      "Epoch 19/50\n",
      "438/438 [==============================] - 0s 1ms/step - loss: 0.0683 - accuracy: 0.9796\n",
      "Epoch 20/50\n",
      "438/438 [==============================] - 0s 1ms/step - loss: 0.0452 - accuracy: 0.9824\n",
      "Epoch 21/50\n",
      "438/438 [==============================] - 0s 999us/step - loss: 0.0394 - accuracy: 0.9837\n",
      "Epoch 22/50\n",
      "438/438 [==============================] - 0s 1ms/step - loss: 0.0417 - accuracy: 0.9839\n",
      "Epoch 23/50\n",
      "438/438 [==============================] - 0s 990us/step - loss: 0.0321 - accuracy: 0.9868\n",
      "Epoch 24/50\n",
      "438/438 [==============================] - 0s 994us/step - loss: 0.0376 - accuracy: 0.9858\n",
      "Epoch 25/50\n",
      "438/438 [==============================] - 0s 991us/step - loss: 0.0376 - accuracy: 0.9844\n",
      "Epoch 26/50\n",
      "438/438 [==============================] - 0s 994us/step - loss: 0.0318 - accuracy: 0.9869\n",
      "Epoch 27/50\n",
      "438/438 [==============================] - 0s 987us/step - loss: 0.0333 - accuracy: 0.9863\n",
      "Epoch 28/50\n",
      "438/438 [==============================] - 0s 1ms/step - loss: 0.0406 - accuracy: 0.9844\n",
      "Epoch 29/50\n",
      "438/438 [==============================] - 0s 1ms/step - loss: 0.0404 - accuracy: 0.9834\n",
      "Epoch 30/50\n",
      "438/438 [==============================] - 0s 1ms/step - loss: 0.0336 - accuracy: 0.9869\n",
      "Epoch 31/50\n",
      "438/438 [==============================] - 0s 998us/step - loss: 0.0318 - accuracy: 0.9872\n",
      "Epoch 32/50\n",
      "438/438 [==============================] - 0s 1ms/step - loss: 0.0423 - accuracy: 0.9838\n",
      "Epoch 33/50\n",
      "438/438 [==============================] - 0s 1ms/step - loss: 0.0299 - accuracy: 0.9876\n",
      "Epoch 34/50\n",
      "438/438 [==============================] - 0s 1ms/step - loss: 0.0380 - accuracy: 0.9861\n",
      "Epoch 35/50\n",
      "438/438 [==============================] - 0s 1ms/step - loss: 0.0364 - accuracy: 0.9851\n",
      "Epoch 36/50\n",
      "438/438 [==============================] - 0s 988us/step - loss: 0.0290 - accuracy: 0.9876\n",
      "Epoch 37/50\n",
      "438/438 [==============================] - 0s 997us/step - loss: 0.0321 - accuracy: 0.9874\n",
      "Epoch 38/50\n",
      "438/438 [==============================] - 0s 988us/step - loss: 0.0243 - accuracy: 0.9893\n",
      "Epoch 39/50\n",
      "438/438 [==============================] - 0s 999us/step - loss: 0.0380 - accuracy: 0.9834\n",
      "Epoch 40/50\n",
      "438/438 [==============================] - 0s 993us/step - loss: 0.0318 - accuracy: 0.9863\n",
      "Epoch 41/50\n",
      "438/438 [==============================] - 0s 1ms/step - loss: 0.0291 - accuracy: 0.9882\n",
      "Epoch 42/50\n",
      "438/438 [==============================] - 0s 999us/step - loss: 0.0397 - accuracy: 0.9837\n",
      "Epoch 43/50\n",
      "438/438 [==============================] - 0s 1ms/step - loss: 0.0282 - accuracy: 0.9887\n",
      "Epoch 44/50\n",
      "438/438 [==============================] - 0s 1ms/step - loss: 0.0317 - accuracy: 0.9874\n",
      "Epoch 45/50\n",
      "438/438 [==============================] - 0s 1ms/step - loss: 0.0264 - accuracy: 0.9888\n",
      "Epoch 46/50\n",
      "438/438 [==============================] - 0s 994us/step - loss: 0.0332 - accuracy: 0.9847\n",
      "Epoch 47/50\n",
      "438/438 [==============================] - 0s 996us/step - loss: 0.0266 - accuracy: 0.9897\n",
      "Epoch 48/50\n",
      "438/438 [==============================] - 0s 1ms/step - loss: 0.0252 - accuracy: 0.9895\n",
      "Epoch 49/50\n",
      "438/438 [==============================] - 0s 1ms/step - loss: 0.0341 - accuracy: 0.9864\n",
      "Epoch 50/50\n",
      "438/438 [==============================] - 0s 1ms/step - loss: 0.0282 - accuracy: 0.9882\n"
     ]
    },
    {
     "data": {
      "text/plain": [
       "<keras.callbacks.History at 0x2109ce090d0>"
      ]
     },
     "execution_count": 20,
     "metadata": {},
     "output_type": "execute_result"
    }
   ],
   "source": [
    "#fit the model\n",
    "model.fit(x_train, y_train, epochs=epochs, batch_size=batch_size, verbose=verbose)"
   ]
  },
  {
   "cell_type": "code",
   "execution_count": 21,
   "id": "e26d9ee1",
   "metadata": {},
   "outputs": [
    {
     "name": "stdout",
     "output_type": "stream",
     "text": [
      "110/110 [==============================] - 0s 765us/step - loss: 0.1182 - accuracy: 0.9572\n"
     ]
    }
   ],
   "source": [
    "_, accuracy = model.evaluate(x_test, y_test, batch_size=batch_size, verbose=verbose)\n",
    "#  return accuracy"
   ]
  },
  {
   "cell_type": "code",
   "execution_count": 22,
   "id": "9502b3e7",
   "metadata": {},
   "outputs": [
    {
     "data": {
      "text/plain": [
       "0.9571917653083801"
      ]
     },
     "execution_count": 22,
     "metadata": {},
     "output_type": "execute_result"
    }
   ],
   "source": [
    "accuracy"
   ]
  },
  {
   "cell_type": "code",
   "execution_count": 23,
   "id": "8dbc03e2",
   "metadata": {},
   "outputs": [
    {
     "name": "stdout",
     "output_type": "stream",
     "text": [
      "110/110 [==============================] - 0s 658us/step\n"
     ]
    }
   ],
   "source": [
    "prediction = model.predict(x_test)"
   ]
  },
  {
   "cell_type": "code",
   "execution_count": 38,
   "id": "81f3c6d0",
   "metadata": {},
   "outputs": [
    {
     "data": {
      "text/plain": [
       "array([[1.77031146e-15, 1.00000000e+00, 1.90574546e-25, 1.01329145e-09,\n",
       "        3.23881979e-15],\n",
       "       [9.92503047e-01, 6.56168004e-06, 1.89118066e-06, 7.47865671e-03,\n",
       "        9.77081618e-06],\n",
       "       [1.46171305e-05, 1.18876997e-09, 1.21560245e-11, 9.79179276e-07,\n",
       "        9.99984384e-01],\n",
       "       ...,\n",
       "       [8.36974848e-03, 1.67778376e-06, 1.99653538e-08, 9.91625488e-01,\n",
       "        3.13239116e-06],\n",
       "       [4.39021193e-07, 1.09164393e-10, 6.22274872e-16, 9.99999523e-01,\n",
       "        1.01221937e-08],\n",
       "       [0.00000000e+00, 0.00000000e+00, 1.00000000e+00, 0.00000000e+00,\n",
       "        0.00000000e+00]], dtype=float32)"
      ]
     },
     "execution_count": 38,
     "metadata": {},
     "output_type": "execute_result"
    }
   ],
   "source": [
    "prediction"
   ]
  },
  {
   "cell_type": "code",
   "execution_count": 25,
   "id": "fe244d96",
   "metadata": {},
   "outputs": [
    {
     "data": {
      "text/plain": [
       "array([[0., 1., 0., 0., 0.],\n",
       "       [1., 0., 0., 0., 0.],\n",
       "       [0., 0., 0., 0., 1.],\n",
       "       ...,\n",
       "       [0., 0., 0., 1., 0.],\n",
       "       [0., 0., 0., 1., 0.],\n",
       "       [0., 0., 1., 0., 0.]], dtype=float32)"
      ]
     },
     "execution_count": 25,
     "metadata": {},
     "output_type": "execute_result"
    }
   ],
   "source": [
    "y_test"
   ]
  },
  {
   "cell_type": "code",
   "execution_count": 26,
   "id": "6cf4e24c",
   "metadata": {},
   "outputs": [],
   "source": [
    "# prediction_NN = np.argmax(prediction[1], axis=-1)"
   ]
  },
  {
   "cell_type": "code",
   "execution_count": 27,
   "id": "74f359b1",
   "metadata": {},
   "outputs": [],
   "source": [
    "prediction_NN=np.argmax(prediction, axis=-1)"
   ]
  },
  {
   "cell_type": "code",
   "execution_count": 28,
   "id": "1c390d0e",
   "metadata": {},
   "outputs": [
    {
     "data": {
      "text/plain": [
       "array([1, 0, 4, ..., 3, 3, 2], dtype=int64)"
      ]
     },
     "execution_count": 28,
     "metadata": {},
     "output_type": "execute_result"
    }
   ],
   "source": [
    "prediction_NN"
   ]
  },
  {
   "cell_type": "code",
   "execution_count": 29,
   "id": "d7e31561",
   "metadata": {},
   "outputs": [],
   "source": [
    "y_test1 = test.loc[:,['Class Label']]"
   ]
  },
  {
   "cell_type": "code",
   "execution_count": 30,
   "id": "2f590454",
   "metadata": {},
   "outputs": [],
   "source": [
    "y_test1=np.array(y_test1)"
   ]
  },
  {
   "cell_type": "code",
   "execution_count": 31,
   "id": "b3b93ce8",
   "metadata": {},
   "outputs": [
    {
     "data": {
      "text/plain": [
       "array([[1],\n",
       "       [0],\n",
       "       [4],\n",
       "       ...,\n",
       "       [3],\n",
       "       [3],\n",
       "       [2]], dtype=int64)"
      ]
     },
     "execution_count": 31,
     "metadata": {},
     "output_type": "execute_result"
    }
   ],
   "source": [
    "y_test1"
   ]
  },
  {
   "cell_type": "code",
   "execution_count": 32,
   "id": "9cf6e1fa",
   "metadata": {},
   "outputs": [
    {
     "name": "stdout",
     "output_type": "stream",
     "text": [
      "Accuracy =  0.9571917808219178\n"
     ]
    }
   ],
   "source": [
    "from sklearn import metrics\n",
    "print (\"Accuracy = \", metrics.accuracy_score(y_test1, prediction_NN))"
   ]
  },
  {
   "cell_type": "code",
   "execution_count": 33,
   "id": "ca70189b",
   "metadata": {},
   "outputs": [
    {
     "name": "stdout",
     "output_type": "stream",
     "text": [
      "[[1336    0    0   81    0]\n",
      " [   0   88    0    0    0]\n",
      " [   0    0   88    0    0]\n",
      " [   0    0    0  499    0]\n",
      " [   0    0    0   69 1343]]\n"
     ]
    }
   ],
   "source": [
    "#Confusion Matrix - verify accuracy of each class\n",
    "from sklearn.metrics import confusion_matrix\n",
    "cm = confusion_matrix(y_test1, prediction_NN)\n",
    "print(cm)"
   ]
  },
  {
   "cell_type": "code",
   "execution_count": 34,
   "id": "67ac2fe4",
   "metadata": {},
   "outputs": [
    {
     "name": "stdout",
     "output_type": "stream",
     "text": [
      "              precision    recall  f1-score   support\n",
      "\n",
      "     Class 0      1.000     0.943     0.971      1417\n",
      "     Class 1      1.000     1.000     1.000        88\n",
      "     Class 2      1.000     1.000     1.000        88\n",
      "     Class 3      0.769     1.000     0.869       499\n",
      "     Class 4      1.000     0.951     0.975      1412\n",
      "\n",
      "    accuracy                          0.957      3504\n",
      "   macro avg      0.954     0.979     0.963      3504\n",
      "weighted avg      0.967     0.957     0.959      3504\n",
      "\n"
     ]
    }
   ],
   "source": [
    "from sklearn.metrics import classification_report\n",
    "\n",
    "# print(class_labels)\n",
    "target_names = ['Class 0', 'Class 1', 'Class 2', 'Class 3', 'Class 4']\n",
    "print(classification_report(y_test1, prediction_NN, target_names=target_names,digits=3))"
   ]
  },
  {
   "cell_type": "code",
   "execution_count": 35,
   "id": "0e44d773",
   "metadata": {},
   "outputs": [],
   "source": [
    "# !pip install mlxtend"
   ]
  },
  {
   "cell_type": "code",
   "execution_count": 36,
   "id": "6701627a",
   "metadata": {},
   "outputs": [],
   "source": [
    "# from mlxtend.plotting import plot_confusion_matrix"
   ]
  },
  {
   "cell_type": "code",
   "execution_count": 37,
   "id": "48745b9a",
   "metadata": {},
   "outputs": [],
   "source": [
    "# class_dict = {0: 'Class 0',\n",
    "#               1: 'Class 1',\n",
    "#               2: 'Class 2',\n",
    "#               3: 'Class 3',\n",
    "#               4: 'Class 4'}\n",
    "\n",
    "# multiclass = np.array([[9926,   67,   19,   56,    0],\n",
    "#                        [178,  855,    0,   41,   40],\n",
    "#                        [268,    0,  848,    0,    0],\n",
    "#                        [27,   16,    0, 2326,   15],\n",
    "#                        [0,    1,    0,   36, 6305]])\n",
    "\n",
    "# fig, ax = plot_confusion_matrix(\n",
    "#     conf_mat=multiclass,\n",
    "#     class_names=class_dict.values(),show_absolute=False,show_normed=True,colorbar=True)"
   ]
  }
 ],
 "metadata": {
  "kernelspec": {
   "display_name": "Python 3 (ipykernel)",
   "language": "python",
   "name": "python3"
  },
  "language_info": {
   "codemirror_mode": {
    "name": "ipython",
    "version": 3
   },
   "file_extension": ".py",
   "mimetype": "text/x-python",
   "name": "python",
   "nbconvert_exporter": "python",
   "pygments_lexer": "ipython3",
   "version": "3.9.13"
  }
 },
 "nbformat": 4,
 "nbformat_minor": 5
}
