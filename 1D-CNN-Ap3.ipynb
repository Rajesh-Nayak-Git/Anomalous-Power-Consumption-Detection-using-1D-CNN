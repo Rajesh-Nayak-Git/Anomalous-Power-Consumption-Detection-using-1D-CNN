{
 "cells": [
  {
   "cell_type": "code",
   "execution_count": 1,
   "id": "7a53f840",
   "metadata": {},
   "outputs": [],
   "source": [
    "import pandas as pd\n",
    "import numpy as np\n",
    "import matplotlib.pyplot as plt\n",
    "from sklearn.model_selection import train_test_split\n",
    "from sklearn.utils import shuffle\n",
    "from sklearn.metrics import precision_score, recall_score, accuracy_score, f1_score, roc_curve, roc_auc_score"
   ]
  },
  {
   "cell_type": "code",
   "execution_count": 2,
   "id": "31488149",
   "metadata": {},
   "outputs": [],
   "source": [
    "from keras.models import Sequential\n",
    "from keras.layers import Dense\n",
    "from keras.layers import Flatten\n",
    "from keras.layers import Dropout\n",
    "from keras.layers.convolutional import Conv1D\n",
    "from keras.layers.convolutional import MaxPooling1D\n",
    "from keras.layers import GlobalMaxPooling1D"
   ]
  },
  {
   "cell_type": "code",
   "execution_count": 3,
   "id": "ab0dc692",
   "metadata": {},
   "outputs": [],
   "source": [
    "from sklearn.preprocessing import MinMaxScaler\n",
    "from tensorflow.keras.utils  import to_categorical"
   ]
  },
  {
   "cell_type": "code",
   "execution_count": 4,
   "id": "c9c41459",
   "metadata": {},
   "outputs": [],
   "source": [
    "df=pd.read_csv(\"Appliance_3.csv\")"
   ]
  },
  {
   "cell_type": "code",
   "execution_count": 5,
   "id": "3dfe9b24",
   "metadata": {},
   "outputs": [
    {
     "data": {
      "text/html": [
       "<div>\n",
       "<style scoped>\n",
       "    .dataframe tbody tr th:only-of-type {\n",
       "        vertical-align: middle;\n",
       "    }\n",
       "\n",
       "    .dataframe tbody tr th {\n",
       "        vertical-align: top;\n",
       "    }\n",
       "\n",
       "    .dataframe thead th {\n",
       "        text-align: right;\n",
       "    }\n",
       "</style>\n",
       "<table border=\"1\" class=\"dataframe\">\n",
       "  <thead>\n",
       "    <tr style=\"text-align: right;\">\n",
       "      <th></th>\n",
       "      <th>Occupancy</th>\n",
       "      <th>Appliance ID</th>\n",
       "      <th>Sin(time)</th>\n",
       "      <th>Cos(time)</th>\n",
       "      <th>Sin(day)</th>\n",
       "      <th>Cos(day)</th>\n",
       "      <th>Power consumption</th>\n",
       "      <th>Normalized power</th>\n",
       "      <th>P(t)-P(t-1)</th>\n",
       "      <th>P(t)-P(t+1)</th>\n",
       "      <th>Class Label</th>\n",
       "    </tr>\n",
       "  </thead>\n",
       "  <tbody>\n",
       "    <tr>\n",
       "      <th>0</th>\n",
       "      <td>0</td>\n",
       "      <td>3</td>\n",
       "      <td>0.00000</td>\n",
       "      <td>1.00000</td>\n",
       "      <td>0.0</td>\n",
       "      <td>1.0</td>\n",
       "      <td>4</td>\n",
       "      <td>-0.22567</td>\n",
       "      <td>4</td>\n",
       "      <td>-1</td>\n",
       "      <td>0</td>\n",
       "    </tr>\n",
       "    <tr>\n",
       "      <th>1</th>\n",
       "      <td>0</td>\n",
       "      <td>3</td>\n",
       "      <td>0.25882</td>\n",
       "      <td>0.96593</td>\n",
       "      <td>0.0</td>\n",
       "      <td>1.0</td>\n",
       "      <td>5</td>\n",
       "      <td>-0.22512</td>\n",
       "      <td>1</td>\n",
       "      <td>-5</td>\n",
       "      <td>0</td>\n",
       "    </tr>\n",
       "    <tr>\n",
       "      <th>2</th>\n",
       "      <td>0</td>\n",
       "      <td>3</td>\n",
       "      <td>0.50000</td>\n",
       "      <td>0.86603</td>\n",
       "      <td>0.0</td>\n",
       "      <td>1.0</td>\n",
       "      <td>10</td>\n",
       "      <td>-0.22234</td>\n",
       "      <td>5</td>\n",
       "      <td>6</td>\n",
       "      <td>0</td>\n",
       "    </tr>\n",
       "    <tr>\n",
       "      <th>3</th>\n",
       "      <td>1</td>\n",
       "      <td>3</td>\n",
       "      <td>0.70711</td>\n",
       "      <td>0.70711</td>\n",
       "      <td>0.0</td>\n",
       "      <td>1.0</td>\n",
       "      <td>4</td>\n",
       "      <td>-0.22567</td>\n",
       "      <td>-6</td>\n",
       "      <td>-2</td>\n",
       "      <td>0</td>\n",
       "    </tr>\n",
       "    <tr>\n",
       "      <th>4</th>\n",
       "      <td>1</td>\n",
       "      <td>3</td>\n",
       "      <td>0.86603</td>\n",
       "      <td>0.50000</td>\n",
       "      <td>0.0</td>\n",
       "      <td>1.0</td>\n",
       "      <td>6</td>\n",
       "      <td>-0.22456</td>\n",
       "      <td>2</td>\n",
       "      <td>-1175</td>\n",
       "      <td>0</td>\n",
       "    </tr>\n",
       "  </tbody>\n",
       "</table>\n",
       "</div>"
      ],
      "text/plain": [
       "   Occupancy  Appliance ID  Sin(time)  Cos(time)  Sin(day)  Cos(day)  \\\n",
       "0          0             3    0.00000    1.00000       0.0       1.0   \n",
       "1          0             3    0.25882    0.96593       0.0       1.0   \n",
       "2          0             3    0.50000    0.86603       0.0       1.0   \n",
       "3          1             3    0.70711    0.70711       0.0       1.0   \n",
       "4          1             3    0.86603    0.50000       0.0       1.0   \n",
       "\n",
       "   Power consumption  Normalized power  P(t)-P(t-1)  P(t)-P(t+1)  Class Label  \n",
       "0                  4          -0.22567            4           -1            0  \n",
       "1                  5          -0.22512            1           -5            0  \n",
       "2                 10          -0.22234            5            6            0  \n",
       "3                  4          -0.22567           -6           -2            0  \n",
       "4                  6          -0.22456            2        -1175            0  "
      ]
     },
     "execution_count": 5,
     "metadata": {},
     "output_type": "execute_result"
    }
   ],
   "source": [
    "df.head()"
   ]
  },
  {
   "cell_type": "code",
   "execution_count": 6,
   "id": "b70e013a",
   "metadata": {},
   "outputs": [
    {
     "data": {
      "text/plain": [
       "Index(['Occupancy', 'Appliance ID', 'Sin(time)', 'Cos(time)', 'Sin(day)',\n",
       "       'Cos(day)', 'Power consumption', 'Normalized power', 'P(t)-P(t-1)',\n",
       "       'P(t)-P(t+1)', 'Class Label'],\n",
       "      dtype='object')"
      ]
     },
     "execution_count": 6,
     "metadata": {},
     "output_type": "execute_result"
    }
   ],
   "source": [
    "df.columns"
   ]
  },
  {
   "cell_type": "code",
   "execution_count": 7,
   "id": "c650c108",
   "metadata": {},
   "outputs": [
    {
     "data": {
      "text/html": [
       "<div>\n",
       "<style scoped>\n",
       "    .dataframe tbody tr th:only-of-type {\n",
       "        vertical-align: middle;\n",
       "    }\n",
       "\n",
       "    .dataframe tbody tr th {\n",
       "        vertical-align: top;\n",
       "    }\n",
       "\n",
       "    .dataframe thead th {\n",
       "        text-align: right;\n",
       "    }\n",
       "</style>\n",
       "<table border=\"1\" class=\"dataframe\">\n",
       "  <thead>\n",
       "    <tr style=\"text-align: right;\">\n",
       "      <th></th>\n",
       "      <th>Occupancy</th>\n",
       "      <th>Appliance ID</th>\n",
       "      <th>Sin(time)</th>\n",
       "      <th>Cos(time)</th>\n",
       "      <th>Sin(day)</th>\n",
       "      <th>Cos(day)</th>\n",
       "      <th>Power consumption</th>\n",
       "      <th>Normalized power</th>\n",
       "      <th>P(t)-P(t-1)</th>\n",
       "      <th>P(t)-P(t+1)</th>\n",
       "      <th>Class Label</th>\n",
       "    </tr>\n",
       "  </thead>\n",
       "  <tbody>\n",
       "    <tr>\n",
       "      <th>5356</th>\n",
       "      <td>0</td>\n",
       "      <td>3</td>\n",
       "      <td>8.660300e-01</td>\n",
       "      <td>5.000000e-01</td>\n",
       "      <td>-0.64205</td>\n",
       "      <td>-0.766660</td>\n",
       "      <td>10</td>\n",
       "      <td>-0.22234</td>\n",
       "      <td>5</td>\n",
       "      <td>4</td>\n",
       "      <td>0</td>\n",
       "    </tr>\n",
       "    <tr>\n",
       "      <th>11287</th>\n",
       "      <td>1</td>\n",
       "      <td>3</td>\n",
       "      <td>9.659300e-01</td>\n",
       "      <td>-2.588200e-01</td>\n",
       "      <td>0.97212</td>\n",
       "      <td>-0.234490</td>\n",
       "      <td>1580</td>\n",
       "      <td>0.64988</td>\n",
       "      <td>208</td>\n",
       "      <td>599</td>\n",
       "      <td>0</td>\n",
       "    </tr>\n",
       "    <tr>\n",
       "      <th>13390</th>\n",
       "      <td>0</td>\n",
       "      <td>3</td>\n",
       "      <td>-5.000000e-01</td>\n",
       "      <td>8.660300e-01</td>\n",
       "      <td>-0.16281</td>\n",
       "      <td>-0.986660</td>\n",
       "      <td>926</td>\n",
       "      <td>0.28655</td>\n",
       "      <td>-771</td>\n",
       "      <td>916</td>\n",
       "      <td>4</td>\n",
       "    </tr>\n",
       "    <tr>\n",
       "      <th>6750</th>\n",
       "      <td>1</td>\n",
       "      <td>3</td>\n",
       "      <td>1.000000e+00</td>\n",
       "      <td>6.120000e-17</td>\n",
       "      <td>-0.99222</td>\n",
       "      <td>0.124480</td>\n",
       "      <td>4</td>\n",
       "      <td>-0.22567</td>\n",
       "      <td>-3</td>\n",
       "      <td>-923</td>\n",
       "      <td>0</td>\n",
       "    </tr>\n",
       "    <tr>\n",
       "      <th>10838</th>\n",
       "      <td>1</td>\n",
       "      <td>3</td>\n",
       "      <td>-5.000000e-01</td>\n",
       "      <td>-8.660300e-01</td>\n",
       "      <td>0.99592</td>\n",
       "      <td>0.090252</td>\n",
       "      <td>6</td>\n",
       "      <td>-0.22456</td>\n",
       "      <td>-1352</td>\n",
       "      <td>-1</td>\n",
       "      <td>2</td>\n",
       "    </tr>\n",
       "    <tr>\n",
       "      <th>...</th>\n",
       "      <td>...</td>\n",
       "      <td>...</td>\n",
       "      <td>...</td>\n",
       "      <td>...</td>\n",
       "      <td>...</td>\n",
       "      <td>...</td>\n",
       "      <td>...</td>\n",
       "      <td>...</td>\n",
       "      <td>...</td>\n",
       "      <td>...</td>\n",
       "      <td>...</td>\n",
       "    </tr>\n",
       "    <tr>\n",
       "      <th>6689</th>\n",
       "      <td>0</td>\n",
       "      <td>3</td>\n",
       "      <td>-9.659300e-01</td>\n",
       "      <td>-2.588200e-01</td>\n",
       "      <td>-0.99732</td>\n",
       "      <td>0.073095</td>\n",
       "      <td>3</td>\n",
       "      <td>-0.22623</td>\n",
       "      <td>-1</td>\n",
       "      <td>-1696</td>\n",
       "      <td>0</td>\n",
       "    </tr>\n",
       "    <tr>\n",
       "      <th>11634</th>\n",
       "      <td>0</td>\n",
       "      <td>3</td>\n",
       "      <td>-1.000000e+00</td>\n",
       "      <td>-1.840000e-16</td>\n",
       "      <td>0.88806</td>\n",
       "      <td>-0.459730</td>\n",
       "      <td>1427</td>\n",
       "      <td>0.56488</td>\n",
       "      <td>1417</td>\n",
       "      <td>1424</td>\n",
       "      <td>1</td>\n",
       "    </tr>\n",
       "    <tr>\n",
       "      <th>250</th>\n",
       "      <td>0</td>\n",
       "      <td>3</td>\n",
       "      <td>5.000000e-01</td>\n",
       "      <td>-8.660300e-01</td>\n",
       "      <td>0.17129</td>\n",
       "      <td>0.985220</td>\n",
       "      <td>2</td>\n",
       "      <td>-0.22678</td>\n",
       "      <td>-1624</td>\n",
       "      <td>-1377</td>\n",
       "      <td>2</td>\n",
       "    </tr>\n",
       "    <tr>\n",
       "      <th>804</th>\n",
       "      <td>1</td>\n",
       "      <td>3</td>\n",
       "      <td>1.220000e-16</td>\n",
       "      <td>-1.000000e+00</td>\n",
       "      <td>0.53801</td>\n",
       "      <td>0.842940</td>\n",
       "      <td>5</td>\n",
       "      <td>-0.22512</td>\n",
       "      <td>2</td>\n",
       "      <td>-1794</td>\n",
       "      <td>0</td>\n",
       "    </tr>\n",
       "    <tr>\n",
       "      <th>13795</th>\n",
       "      <td>1</td>\n",
       "      <td>3</td>\n",
       "      <td>-9.659300e-01</td>\n",
       "      <td>2.588200e-01</td>\n",
       "      <td>-0.44052</td>\n",
       "      <td>-0.897740</td>\n",
       "      <td>1584</td>\n",
       "      <td>0.65211</td>\n",
       "      <td>406</td>\n",
       "      <td>57</td>\n",
       "      <td>0</td>\n",
       "    </tr>\n",
       "  </tbody>\n",
       "</table>\n",
       "<p>17520 rows × 11 columns</p>\n",
       "</div>"
      ],
      "text/plain": [
       "       Occupancy  Appliance ID     Sin(time)     Cos(time)  Sin(day)  \\\n",
       "5356           0             3  8.660300e-01  5.000000e-01  -0.64205   \n",
       "11287          1             3  9.659300e-01 -2.588200e-01   0.97212   \n",
       "13390          0             3 -5.000000e-01  8.660300e-01  -0.16281   \n",
       "6750           1             3  1.000000e+00  6.120000e-17  -0.99222   \n",
       "10838          1             3 -5.000000e-01 -8.660300e-01   0.99592   \n",
       "...          ...           ...           ...           ...       ...   \n",
       "6689           0             3 -9.659300e-01 -2.588200e-01  -0.99732   \n",
       "11634          0             3 -1.000000e+00 -1.840000e-16   0.88806   \n",
       "250            0             3  5.000000e-01 -8.660300e-01   0.17129   \n",
       "804            1             3  1.220000e-16 -1.000000e+00   0.53801   \n",
       "13795          1             3 -9.659300e-01  2.588200e-01  -0.44052   \n",
       "\n",
       "       Cos(day)  Power consumption  Normalized power  P(t)-P(t-1)  \\\n",
       "5356  -0.766660                 10          -0.22234            5   \n",
       "11287 -0.234490               1580           0.64988          208   \n",
       "13390 -0.986660                926           0.28655         -771   \n",
       "6750   0.124480                  4          -0.22567           -3   \n",
       "10838  0.090252                  6          -0.22456        -1352   \n",
       "...         ...                ...               ...          ...   \n",
       "6689   0.073095                  3          -0.22623           -1   \n",
       "11634 -0.459730               1427           0.56488         1417   \n",
       "250    0.985220                  2          -0.22678        -1624   \n",
       "804    0.842940                  5          -0.22512            2   \n",
       "13795 -0.897740               1584           0.65211          406   \n",
       "\n",
       "       P(t)-P(t+1)  Class Label  \n",
       "5356             4            0  \n",
       "11287          599            0  \n",
       "13390          916            4  \n",
       "6750          -923            0  \n",
       "10838           -1            2  \n",
       "...            ...          ...  \n",
       "6689         -1696            0  \n",
       "11634         1424            1  \n",
       "250          -1377            2  \n",
       "804          -1794            0  \n",
       "13795           57            0  \n",
       "\n",
       "[17520 rows x 11 columns]"
      ]
     },
     "execution_count": 7,
     "metadata": {},
     "output_type": "execute_result"
    }
   ],
   "source": [
    "shuffle(df)"
   ]
  },
  {
   "cell_type": "code",
   "execution_count": 8,
   "id": "6d8a3d40",
   "metadata": {},
   "outputs": [],
   "source": [
    "# Split the data into train and test sets\n",
    "train_size = int(len(df)*0.8)\n",
    "train, test = df.iloc[:train_size],df.iloc[train_size:]"
   ]
  },
  {
   "cell_type": "code",
   "execution_count": 9,
   "id": "09d36d1b",
   "metadata": {},
   "outputs": [],
   "source": [
    "# Split train and test sets into predictors (X) and outcome (y) variables\n",
    "x_train = train.drop('Class Label', axis = 1)\n",
    "y_train = train.loc[:,['Class Label']]\n",
    "x_test = test.drop('Class Label', axis = 1)\n",
    "y_test = test.loc[:,['Class Label']]"
   ]
  },
  {
   "cell_type": "code",
   "execution_count": 10,
   "id": "ce541128",
   "metadata": {},
   "outputs": [],
   "source": [
    "# Scale the X data \n",
    "scaler_x = MinMaxScaler(feature_range = (0,1))\n",
    "input_scaler = scaler_x.fit(x_train)\n",
    "train_x_norm = input_scaler.transform(x_train)\n",
    "test_x_norm = input_scaler.transform(x_test)"
   ]
  },
  {
   "cell_type": "code",
   "execution_count": 11,
   "id": "b2d2be5d",
   "metadata": {},
   "outputs": [],
   "source": [
    "# One-hot encode y data\n",
    "y_train = to_categorical(y_train)\n",
    "y_test = to_categorical(y_test)"
   ]
  },
  {
   "cell_type": "code",
   "execution_count": 12,
   "id": "66cf1d05",
   "metadata": {},
   "outputs": [
    {
     "data": {
      "text/plain": [
       "((14016, 10), (3504, 10), (14016, 5), (3504, 5))"
      ]
     },
     "execution_count": 12,
     "metadata": {},
     "output_type": "execute_result"
    }
   ],
   "source": [
    "x_train.shape, x_test.shape, y_train.shape, y_test.shape"
   ]
  },
  {
   "cell_type": "code",
   "execution_count": 13,
   "id": "8188b677",
   "metadata": {},
   "outputs": [],
   "source": [
    "x_train=np.array(x_train)\n",
    "y_train=np.array(y_train)\n",
    "x_test=np.array(x_test)\n",
    "y_test=np.array(y_test)"
   ]
  },
  {
   "cell_type": "code",
   "execution_count": 14,
   "id": "fb2196c2",
   "metadata": {},
   "outputs": [],
   "source": [
    "x_train = x_train.reshape(x_train.shape[0],x_train.shape[1], 1)\n",
    "x_test = x_test.reshape(x_test.shape[0], x_test.shape[1], 1)"
   ]
  },
  {
   "cell_type": "code",
   "execution_count": 15,
   "id": "c79d2f1d",
   "metadata": {},
   "outputs": [
    {
     "data": {
      "text/plain": [
       "((14016, 10, 1), (3504, 10, 1), (14016, 5), (3504, 5))"
      ]
     },
     "execution_count": 15,
     "metadata": {},
     "output_type": "execute_result"
    }
   ],
   "source": [
    "x_train.shape,x_test.shape,y_train.shape,y_test.shape"
   ]
  },
  {
   "cell_type": "code",
   "execution_count": 16,
   "id": "bd34113a",
   "metadata": {},
   "outputs": [],
   "source": [
    "verbose, epochs, batch_size = 1, 50, 32\n",
    "n_timesteps, n_features = x_train.shape[1], x_train.shape[2]"
   ]
  },
  {
   "cell_type": "code",
   "execution_count": 17,
   "id": "825dc0a3",
   "metadata": {},
   "outputs": [],
   "source": [
    "# Define the model architecture\n",
    "model = Sequential()\n",
    "model.add(Conv1D(filters=16, kernel_size=3, activation='relu', input_shape=(10, 1)))\n",
    "model.add(Conv1D(filters=16, kernel_size=3, activation='relu'))\n",
    "model.add(Conv1D(filters=16, kernel_size=3, activation='relu'))\n",
    "model.add(GlobalMaxPooling1D())\n",
    "model.add(Dense(64, activation='relu'))\n",
    "model.add(Dropout(0.1))\n",
    "model.add(Dense(5, activation='softmax'))"
   ]
  },
  {
   "cell_type": "code",
   "execution_count": 18,
   "id": "eddbbd97",
   "metadata": {},
   "outputs": [
    {
     "name": "stdout",
     "output_type": "stream",
     "text": [
      "Model: \"sequential\"\n",
      "_________________________________________________________________\n",
      " Layer (type)                Output Shape              Param #   \n",
      "=================================================================\n",
      " conv1d (Conv1D)             (None, 8, 16)             64        \n",
      "                                                                 \n",
      " conv1d_1 (Conv1D)           (None, 6, 16)             784       \n",
      "                                                                 \n",
      " conv1d_2 (Conv1D)           (None, 4, 16)             784       \n",
      "                                                                 \n",
      " global_max_pooling1d (Globa  (None, 16)               0         \n",
      " lMaxPooling1D)                                                  \n",
      "                                                                 \n",
      " dense (Dense)               (None, 64)                1088      \n",
      "                                                                 \n",
      " dropout (Dropout)           (None, 64)                0         \n",
      "                                                                 \n",
      " dense_1 (Dense)             (None, 5)                 325       \n",
      "                                                                 \n",
      "=================================================================\n",
      "Total params: 3,045\n",
      "Trainable params: 3,045\n",
      "Non-trainable params: 0\n",
      "_________________________________________________________________\n"
     ]
    }
   ],
   "source": [
    "model.summary()"
   ]
  },
  {
   "cell_type": "code",
   "execution_count": 19,
   "id": "c669bf7a",
   "metadata": {},
   "outputs": [],
   "source": [
    "#compile the model\n",
    "model.compile(loss='categorical_crossentropy', optimizer='adam', metrics=['accuracy'])"
   ]
  },
  {
   "cell_type": "code",
   "execution_count": 20,
   "id": "efa9936a",
   "metadata": {
    "scrolled": true
   },
   "outputs": [
    {
     "name": "stdout",
     "output_type": "stream",
     "text": [
      "Epoch 1/50\n",
      "438/438 [==============================] - 1s 1ms/step - loss: 1.3326 - accuracy: 0.8305\n",
      "Epoch 2/50\n",
      "438/438 [==============================] - 0s 1ms/step - loss: 0.2888 - accuracy: 0.8770\n",
      "Epoch 3/50\n",
      "438/438 [==============================] - 0s 1ms/step - loss: 0.2628 - accuracy: 0.8819\n",
      "Epoch 4/50\n",
      "438/438 [==============================] - 0s 994us/step - loss: 0.2484 - accuracy: 0.8892\n",
      "Epoch 5/50\n",
      "438/438 [==============================] - 0s 1ms/step - loss: 0.2415 - accuracy: 0.8898\n",
      "Epoch 6/50\n",
      "438/438 [==============================] - 0s 990us/step - loss: 0.2320 - accuracy: 0.8939\n",
      "Epoch 7/50\n",
      "438/438 [==============================] - 0s 994us/step - loss: 0.2232 - accuracy: 0.8998\n",
      "Epoch 8/50\n",
      "438/438 [==============================] - 0s 1ms/step - loss: 0.2145 - accuracy: 0.9041\n",
      "Epoch 9/50\n",
      "438/438 [==============================] - 0s 1ms/step - loss: 0.2063 - accuracy: 0.9088\n",
      "Epoch 10/50\n",
      "438/438 [==============================] - 0s 1ms/step - loss: 0.1977 - accuracy: 0.9127\n",
      "Epoch 11/50\n",
      "438/438 [==============================] - 0s 1ms/step - loss: 0.1890 - accuracy: 0.9147\n",
      "Epoch 12/50\n",
      "438/438 [==============================] - 0s 1ms/step - loss: 0.1344 - accuracy: 0.9416\n",
      "Epoch 13/50\n",
      "438/438 [==============================] - 0s 998us/step - loss: 0.0644 - accuracy: 0.9738\n",
      "Epoch 14/50\n",
      "438/438 [==============================] - 0s 1ms/step - loss: 0.0452 - accuracy: 0.9814\n",
      "Epoch 15/50\n",
      "438/438 [==============================] - 0s 1ms/step - loss: 0.0451 - accuracy: 0.9832\n",
      "Epoch 16/50\n",
      "438/438 [==============================] - 0s 998us/step - loss: 0.0443 - accuracy: 0.9814\n",
      "Epoch 17/50\n",
      "438/438 [==============================] - 0s 997us/step - loss: 0.0416 - accuracy: 0.9824\n",
      "Epoch 18/50\n",
      "438/438 [==============================] - 0s 997us/step - loss: 0.0342 - accuracy: 0.9854\n",
      "Epoch 19/50\n",
      "438/438 [==============================] - 0s 990us/step - loss: 0.0319 - accuracy: 0.9856\n",
      "Epoch 20/50\n",
      "438/438 [==============================] - 0s 981us/step - loss: 0.0396 - accuracy: 0.9844\n",
      "Epoch 21/50\n",
      "438/438 [==============================] - 0s 987us/step - loss: 0.0292 - accuracy: 0.9887\n",
      "Epoch 22/50\n",
      "438/438 [==============================] - 0s 1ms/step - loss: 0.0343 - accuracy: 0.9864\n",
      "Epoch 23/50\n",
      "438/438 [==============================] - 0s 1ms/step - loss: 0.0270 - accuracy: 0.9884\n",
      "Epoch 24/50\n",
      "438/438 [==============================] - 0s 1ms/step - loss: 0.0317 - accuracy: 0.9877\n",
      "Epoch 25/50\n",
      "438/438 [==============================] - 0s 1ms/step - loss: 0.0347 - accuracy: 0.9851\n",
      "Epoch 26/50\n",
      "438/438 [==============================] - 0s 1ms/step - loss: 0.0291 - accuracy: 0.9879\n",
      "Epoch 27/50\n",
      "438/438 [==============================] - 0s 1ms/step - loss: 0.0312 - accuracy: 0.9877\n",
      "Epoch 28/50\n",
      "438/438 [==============================] - 0s 1ms/step - loss: 0.0262 - accuracy: 0.9894\n",
      "Epoch 29/50\n",
      "438/438 [==============================] - 0s 994us/step - loss: 0.0270 - accuracy: 0.9896\n",
      "Epoch 30/50\n",
      "438/438 [==============================] - 0s 1ms/step - loss: 0.0322 - accuracy: 0.9872\n",
      "Epoch 31/50\n",
      "438/438 [==============================] - 0s 1ms/step - loss: 0.0240 - accuracy: 0.9904\n",
      "Epoch 32/50\n",
      "438/438 [==============================] - 0s 1ms/step - loss: 0.0276 - accuracy: 0.9877\n",
      "Epoch 33/50\n",
      "438/438 [==============================] - 0s 1ms/step - loss: 0.0240 - accuracy: 0.9902\n",
      "Epoch 34/50\n",
      "438/438 [==============================] - 0s 994us/step - loss: 0.0235 - accuracy: 0.9905\n",
      "Epoch 35/50\n",
      "438/438 [==============================] - 0s 999us/step - loss: 0.0196 - accuracy: 0.9924\n",
      "Epoch 36/50\n",
      "438/438 [==============================] - 0s 1ms/step - loss: 0.0267 - accuracy: 0.9883\n",
      "Epoch 37/50\n",
      "438/438 [==============================] - 0s 1ms/step - loss: 0.0251 - accuracy: 0.9896\n",
      "Epoch 38/50\n",
      "438/438 [==============================] - 0s 1ms/step - loss: 0.0254 - accuracy: 0.9892\n",
      "Epoch 39/50\n",
      "438/438 [==============================] - 0s 995us/step - loss: 0.0249 - accuracy: 0.9904\n",
      "Epoch 40/50\n",
      "438/438 [==============================] - 0s 990us/step - loss: 0.0297 - accuracy: 0.9877\n",
      "Epoch 41/50\n",
      "438/438 [==============================] - 0s 1ms/step - loss: 0.0285 - accuracy: 0.9874\n",
      "Epoch 42/50\n",
      "438/438 [==============================] - 0s 1ms/step - loss: 0.0257 - accuracy: 0.9899\n",
      "Epoch 43/50\n",
      "438/438 [==============================] - 0s 998us/step - loss: 0.0230 - accuracy: 0.9912\n",
      "Epoch 44/50\n",
      "438/438 [==============================] - 0s 1ms/step - loss: 0.0206 - accuracy: 0.9917\n",
      "Epoch 45/50\n",
      "438/438 [==============================] - 0s 985us/step - loss: 0.0205 - accuracy: 0.9916\n",
      "Epoch 46/50\n",
      "438/438 [==============================] - 1s 1ms/step - loss: 0.0246 - accuracy: 0.9900\n",
      "Epoch 47/50\n",
      "438/438 [==============================] - 0s 1ms/step - loss: 0.0200 - accuracy: 0.9915\n",
      "Epoch 48/50\n",
      "438/438 [==============================] - 0s 1ms/step - loss: 0.0210 - accuracy: 0.9911\n",
      "Epoch 49/50\n",
      "438/438 [==============================] - 0s 1ms/step - loss: 0.0195 - accuracy: 0.9918\n",
      "Epoch 50/50\n",
      "438/438 [==============================] - 0s 1ms/step - loss: 0.0238 - accuracy: 0.9899\n"
     ]
    },
    {
     "data": {
      "text/plain": [
       "<keras.callbacks.History at 0x28fe65f80d0>"
      ]
     },
     "execution_count": 20,
     "metadata": {},
     "output_type": "execute_result"
    }
   ],
   "source": [
    "#fit the model\n",
    "model.fit(x_train, y_train, epochs=epochs, batch_size=batch_size, verbose=verbose)"
   ]
  },
  {
   "cell_type": "code",
   "execution_count": 21,
   "id": "e26d9ee1",
   "metadata": {},
   "outputs": [
    {
     "name": "stdout",
     "output_type": "stream",
     "text": [
      "110/110 [==============================] - 0s 784us/step - loss: 0.0129 - accuracy: 0.9974\n"
     ]
    }
   ],
   "source": [
    "_, accuracy = model.evaluate(x_test, y_test, batch_size=batch_size, verbose=verbose)\n",
    "#  return accuracy"
   ]
  },
  {
   "cell_type": "code",
   "execution_count": 22,
   "id": "9502b3e7",
   "metadata": {},
   "outputs": [
    {
     "data": {
      "text/plain": [
       "0.9974315166473389"
      ]
     },
     "execution_count": 22,
     "metadata": {},
     "output_type": "execute_result"
    }
   ],
   "source": [
    "accuracy"
   ]
  },
  {
   "cell_type": "code",
   "execution_count": 23,
   "id": "8dbc03e2",
   "metadata": {},
   "outputs": [
    {
     "name": "stdout",
     "output_type": "stream",
     "text": [
      "110/110 [==============================] - 0s 595us/step\n"
     ]
    }
   ],
   "source": [
    "prediction = model.predict(x_test)"
   ]
  },
  {
   "cell_type": "code",
   "execution_count": 24,
   "id": "81f3c6d0",
   "metadata": {},
   "outputs": [],
   "source": [
    "# prediction[1]"
   ]
  },
  {
   "cell_type": "code",
   "execution_count": 25,
   "id": "fe244d96",
   "metadata": {},
   "outputs": [
    {
     "data": {
      "text/plain": [
       "array([[0., 0., 1., 0., 0.],\n",
       "       [1., 0., 0., 0., 0.],\n",
       "       [1., 0., 0., 0., 0.],\n",
       "       ...,\n",
       "       [0., 0., 1., 0., 0.],\n",
       "       [1., 0., 0., 0., 0.],\n",
       "       [1., 0., 0., 0., 0.]], dtype=float32)"
      ]
     },
     "execution_count": 25,
     "metadata": {},
     "output_type": "execute_result"
    }
   ],
   "source": [
    "y_test"
   ]
  },
  {
   "cell_type": "code",
   "execution_count": 26,
   "id": "6cf4e24c",
   "metadata": {},
   "outputs": [],
   "source": [
    "# prediction_NN = np.argmax(prediction[1], axis=-1)"
   ]
  },
  {
   "cell_type": "code",
   "execution_count": 27,
   "id": "74f359b1",
   "metadata": {},
   "outputs": [],
   "source": [
    "prediction_NN=np.argmax(prediction, axis=-1)"
   ]
  },
  {
   "cell_type": "code",
   "execution_count": 28,
   "id": "1c390d0e",
   "metadata": {},
   "outputs": [
    {
     "data": {
      "text/plain": [
       "array([2, 0, 0, ..., 2, 0, 0], dtype=int64)"
      ]
     },
     "execution_count": 28,
     "metadata": {},
     "output_type": "execute_result"
    }
   ],
   "source": [
    "prediction_NN"
   ]
  },
  {
   "cell_type": "code",
   "execution_count": 29,
   "id": "d7e31561",
   "metadata": {},
   "outputs": [],
   "source": [
    "y_test1 = test.loc[:,['Class Label']]"
   ]
  },
  {
   "cell_type": "code",
   "execution_count": 30,
   "id": "2f590454",
   "metadata": {},
   "outputs": [],
   "source": [
    "y_test1=np.array(y_test1)"
   ]
  },
  {
   "cell_type": "code",
   "execution_count": 31,
   "id": "b3b93ce8",
   "metadata": {},
   "outputs": [
    {
     "data": {
      "text/plain": [
       "array([[2],\n",
       "       [0],\n",
       "       [0],\n",
       "       ...,\n",
       "       [2],\n",
       "       [0],\n",
       "       [0]], dtype=int64)"
      ]
     },
     "execution_count": 31,
     "metadata": {},
     "output_type": "execute_result"
    }
   ],
   "source": [
    "y_test1"
   ]
  },
  {
   "cell_type": "code",
   "execution_count": 32,
   "id": "9cf6e1fa",
   "metadata": {},
   "outputs": [
    {
     "name": "stdout",
     "output_type": "stream",
     "text": [
      "Accuracy =  0.997431506849315\n"
     ]
    }
   ],
   "source": [
    "from sklearn import metrics\n",
    "print (\"Accuracy = \", metrics.accuracy_score(y_test1, prediction_NN))"
   ]
  },
  {
   "cell_type": "code",
   "execution_count": 33,
   "id": "ca70189b",
   "metadata": {},
   "outputs": [
    {
     "name": "stdout",
     "output_type": "stream",
     "text": [
      "[[2261    0    0    0    0]\n",
      " [   0  392    0    0    0]\n",
      " [   0    0  393    0    0]\n",
      " [   3    0    0  217    0]\n",
      " [   0    0    0    6  232]]\n"
     ]
    }
   ],
   "source": [
    "#Confusion Matrix - verify accuracy of each class\n",
    "from sklearn.metrics import confusion_matrix\n",
    "cm = confusion_matrix(y_test1, prediction_NN)\n",
    "print(cm)"
   ]
  },
  {
   "cell_type": "code",
   "execution_count": 34,
   "id": "67ac2fe4",
   "metadata": {},
   "outputs": [
    {
     "name": "stdout",
     "output_type": "stream",
     "text": [
      "              precision    recall  f1-score   support\n",
      "\n",
      "     Class 0      0.999     1.000     0.999      2261\n",
      "     Class 1      1.000     1.000     1.000       392\n",
      "     Class 2      1.000     1.000     1.000       393\n",
      "     Class 3      0.973     0.986     0.980       220\n",
      "     Class 4      1.000     0.975     0.987       238\n",
      "\n",
      "    accuracy                          0.997      3504\n",
      "   macro avg      0.994     0.992     0.993      3504\n",
      "weighted avg      0.997     0.997     0.997      3504\n",
      "\n"
     ]
    }
   ],
   "source": [
    "from sklearn.metrics import classification_report\n",
    "\n",
    "# print(class_labels)\n",
    "target_names = ['Class 0', 'Class 1', 'Class 2', 'Class 3', 'Class 4']\n",
    "print(classification_report(y_test1, prediction_NN, target_names=target_names,digits=3))"
   ]
  },
  {
   "cell_type": "code",
   "execution_count": 35,
   "id": "0e44d773",
   "metadata": {},
   "outputs": [],
   "source": [
    "# !pip install mlxtend"
   ]
  },
  {
   "cell_type": "code",
   "execution_count": 36,
   "id": "6701627a",
   "metadata": {},
   "outputs": [],
   "source": [
    "# from mlxtend.plotting import plot_confusion_matrix"
   ]
  },
  {
   "cell_type": "code",
   "execution_count": 37,
   "id": "48745b9a",
   "metadata": {},
   "outputs": [],
   "source": [
    "# class_dict = {0: 'Class 0',\n",
    "#               1: 'Class 1',\n",
    "#               2: 'Class 2',\n",
    "#               3: 'Class 3',\n",
    "#               4: 'Class 4'}\n",
    "\n",
    "# multiclass = np.array([[9926,   67,   19,   56,    0],\n",
    "#                        [178,  855,    0,   41,   40],\n",
    "#                        [268,    0,  848,    0,    0],\n",
    "#                        [27,   16,    0, 2326,   15],\n",
    "#                        [0,    1,    0,   36, 6305]])\n",
    "\n",
    "# fig, ax = plot_confusion_matrix(\n",
    "#     conf_mat=multiclass,\n",
    "#     class_names=class_dict.values(),show_absolute=False,show_normed=True,colorbar=True)"
   ]
  }
 ],
 "metadata": {
  "kernelspec": {
   "display_name": "Python 3 (ipykernel)",
   "language": "python",
   "name": "python3"
  },
  "language_info": {
   "codemirror_mode": {
    "name": "ipython",
    "version": 3
   },
   "file_extension": ".py",
   "mimetype": "text/x-python",
   "name": "python",
   "nbconvert_exporter": "python",
   "pygments_lexer": "ipython3",
   "version": "3.9.13"
  }
 },
 "nbformat": 4,
 "nbformat_minor": 5
}
