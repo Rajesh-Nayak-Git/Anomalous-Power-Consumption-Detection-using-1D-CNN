{
 "cells": [
  {
   "cell_type": "code",
   "execution_count": 1,
   "id": "7a53f840",
   "metadata": {},
   "outputs": [],
   "source": [
    "import pandas as pd\n",
    "import numpy as np\n",
    "import matplotlib.pyplot as plt\n",
    "from sklearn.model_selection import train_test_split\n",
    "from sklearn.utils import shuffle\n",
    "from sklearn.metrics import precision_score, recall_score, accuracy_score, f1_score, roc_curve, roc_auc_score"
   ]
  },
  {
   "cell_type": "code",
   "execution_count": 2,
   "id": "31488149",
   "metadata": {},
   "outputs": [],
   "source": [
    "from keras.models import Sequential\n",
    "from keras.layers import Dense\n",
    "from keras.layers import Flatten\n",
    "from keras.layers import Dropout\n",
    "from keras.layers.convolutional import Conv1D\n",
    "from keras.layers.convolutional import MaxPooling1D\n",
    "from keras.layers import GlobalMaxPooling1D"
   ]
  },
  {
   "cell_type": "code",
   "execution_count": 3,
   "id": "ab0dc692",
   "metadata": {},
   "outputs": [],
   "source": [
    "from sklearn.preprocessing import MinMaxScaler\n",
    "from tensorflow.keras.utils  import to_categorical"
   ]
  },
  {
   "cell_type": "code",
   "execution_count": 4,
   "id": "c9c41459",
   "metadata": {},
   "outputs": [],
   "source": [
    "df=pd.read_csv(\"Appliance_4.csv\")"
   ]
  },
  {
   "cell_type": "code",
   "execution_count": 5,
   "id": "3dfe9b24",
   "metadata": {},
   "outputs": [
    {
     "data": {
      "text/html": [
       "<div>\n",
       "<style scoped>\n",
       "    .dataframe tbody tr th:only-of-type {\n",
       "        vertical-align: middle;\n",
       "    }\n",
       "\n",
       "    .dataframe tbody tr th {\n",
       "        vertical-align: top;\n",
       "    }\n",
       "\n",
       "    .dataframe thead th {\n",
       "        text-align: right;\n",
       "    }\n",
       "</style>\n",
       "<table border=\"1\" class=\"dataframe\">\n",
       "  <thead>\n",
       "    <tr style=\"text-align: right;\">\n",
       "      <th></th>\n",
       "      <th>Occupancy</th>\n",
       "      <th>Appliance ID</th>\n",
       "      <th>Sin(time)</th>\n",
       "      <th>Cos(time)</th>\n",
       "      <th>Sin(day)</th>\n",
       "      <th>Cos(day)</th>\n",
       "      <th>Power consumption</th>\n",
       "      <th>Normalized power</th>\n",
       "      <th>P(t)-P(t-1)</th>\n",
       "      <th>P(t)-P(t+1)</th>\n",
       "      <th>Class Label</th>\n",
       "    </tr>\n",
       "  </thead>\n",
       "  <tbody>\n",
       "    <tr>\n",
       "      <th>0</th>\n",
       "      <td>1</td>\n",
       "      <td>4</td>\n",
       "      <td>0.00000</td>\n",
       "      <td>1.00000</td>\n",
       "      <td>0.0</td>\n",
       "      <td>1.0</td>\n",
       "      <td>655</td>\n",
       "      <td>0.136000</td>\n",
       "      <td>655</td>\n",
       "      <td>-657</td>\n",
       "      <td>0</td>\n",
       "    </tr>\n",
       "    <tr>\n",
       "      <th>1</th>\n",
       "      <td>1</td>\n",
       "      <td>4</td>\n",
       "      <td>0.25882</td>\n",
       "      <td>0.96593</td>\n",
       "      <td>0.0</td>\n",
       "      <td>1.0</td>\n",
       "      <td>1312</td>\n",
       "      <td>0.501000</td>\n",
       "      <td>657</td>\n",
       "      <td>487</td>\n",
       "      <td>0</td>\n",
       "    </tr>\n",
       "    <tr>\n",
       "      <th>2</th>\n",
       "      <td>1</td>\n",
       "      <td>4</td>\n",
       "      <td>0.50000</td>\n",
       "      <td>0.86603</td>\n",
       "      <td>0.0</td>\n",
       "      <td>1.0</td>\n",
       "      <td>825</td>\n",
       "      <td>0.230440</td>\n",
       "      <td>-487</td>\n",
       "      <td>284</td>\n",
       "      <td>0</td>\n",
       "    </tr>\n",
       "    <tr>\n",
       "      <th>3</th>\n",
       "      <td>1</td>\n",
       "      <td>4</td>\n",
       "      <td>0.70711</td>\n",
       "      <td>0.70711</td>\n",
       "      <td>0.0</td>\n",
       "      <td>1.0</td>\n",
       "      <td>541</td>\n",
       "      <td>0.072663</td>\n",
       "      <td>-284</td>\n",
       "      <td>-635</td>\n",
       "      <td>0</td>\n",
       "    </tr>\n",
       "    <tr>\n",
       "      <th>4</th>\n",
       "      <td>1</td>\n",
       "      <td>4</td>\n",
       "      <td>0.86603</td>\n",
       "      <td>0.50000</td>\n",
       "      <td>0.0</td>\n",
       "      <td>1.0</td>\n",
       "      <td>1176</td>\n",
       "      <td>0.425440</td>\n",
       "      <td>635</td>\n",
       "      <td>409</td>\n",
       "      <td>0</td>\n",
       "    </tr>\n",
       "  </tbody>\n",
       "</table>\n",
       "</div>"
      ],
      "text/plain": [
       "   Occupancy  Appliance ID  Sin(time)  Cos(time)  Sin(day)  Cos(day)  \\\n",
       "0          1             4    0.00000    1.00000       0.0       1.0   \n",
       "1          1             4    0.25882    0.96593       0.0       1.0   \n",
       "2          1             4    0.50000    0.86603       0.0       1.0   \n",
       "3          1             4    0.70711    0.70711       0.0       1.0   \n",
       "4          1             4    0.86603    0.50000       0.0       1.0   \n",
       "\n",
       "   Power consumption  Normalized power  P(t)-P(t-1)  P(t)-P(t+1)  Class Label  \n",
       "0                655          0.136000          655         -657            0  \n",
       "1               1312          0.501000          657          487            0  \n",
       "2                825          0.230440         -487          284            0  \n",
       "3                541          0.072663         -284         -635            0  \n",
       "4               1176          0.425440          635          409            0  "
      ]
     },
     "execution_count": 5,
     "metadata": {},
     "output_type": "execute_result"
    }
   ],
   "source": [
    "df.head()"
   ]
  },
  {
   "cell_type": "code",
   "execution_count": 6,
   "id": "b70e013a",
   "metadata": {},
   "outputs": [
    {
     "data": {
      "text/plain": [
       "Index(['Occupancy', 'Appliance ID', 'Sin(time)', 'Cos(time)', 'Sin(day)',\n",
       "       'Cos(day)', 'Power consumption', 'Normalized power', 'P(t)-P(t-1)',\n",
       "       'P(t)-P(t+1)', 'Class Label'],\n",
       "      dtype='object')"
      ]
     },
     "execution_count": 6,
     "metadata": {},
     "output_type": "execute_result"
    }
   ],
   "source": [
    "df.columns"
   ]
  },
  {
   "cell_type": "code",
   "execution_count": 7,
   "id": "edeabae6",
   "metadata": {},
   "outputs": [
    {
     "data": {
      "text/html": [
       "<div>\n",
       "<style scoped>\n",
       "    .dataframe tbody tr th:only-of-type {\n",
       "        vertical-align: middle;\n",
       "    }\n",
       "\n",
       "    .dataframe tbody tr th {\n",
       "        vertical-align: top;\n",
       "    }\n",
       "\n",
       "    .dataframe thead th {\n",
       "        text-align: right;\n",
       "    }\n",
       "</style>\n",
       "<table border=\"1\" class=\"dataframe\">\n",
       "  <thead>\n",
       "    <tr style=\"text-align: right;\">\n",
       "      <th></th>\n",
       "      <th>Occupancy</th>\n",
       "      <th>Appliance ID</th>\n",
       "      <th>Sin(time)</th>\n",
       "      <th>Cos(time)</th>\n",
       "      <th>Sin(day)</th>\n",
       "      <th>Cos(day)</th>\n",
       "      <th>Power consumption</th>\n",
       "      <th>Normalized power</th>\n",
       "      <th>P(t)-P(t-1)</th>\n",
       "      <th>P(t)-P(t+1)</th>\n",
       "      <th>Class Label</th>\n",
       "    </tr>\n",
       "  </thead>\n",
       "  <tbody>\n",
       "    <tr>\n",
       "      <th>10423</th>\n",
       "      <td>0</td>\n",
       "      <td>4</td>\n",
       "      <td>0.96593</td>\n",
       "      <td>-0.25882</td>\n",
       "      <td>0.927540</td>\n",
       "      <td>0.37372</td>\n",
       "      <td>584</td>\n",
       "      <td>0.096551</td>\n",
       "      <td>-161</td>\n",
       "      <td>-779</td>\n",
       "      <td>4</td>\n",
       "    </tr>\n",
       "    <tr>\n",
       "      <th>1527</th>\n",
       "      <td>1</td>\n",
       "      <td>4</td>\n",
       "      <td>-0.70711</td>\n",
       "      <td>-0.70711</td>\n",
       "      <td>0.884070</td>\n",
       "      <td>0.46736</td>\n",
       "      <td>775</td>\n",
       "      <td>0.202660</td>\n",
       "      <td>-62</td>\n",
       "      <td>-19</td>\n",
       "      <td>0</td>\n",
       "    </tr>\n",
       "    <tr>\n",
       "      <th>8361</th>\n",
       "      <td>0</td>\n",
       "      <td>4</td>\n",
       "      <td>0.70711</td>\n",
       "      <td>-0.70711</td>\n",
       "      <td>-0.288480</td>\n",
       "      <td>0.95749</td>\n",
       "      <td>0</td>\n",
       "      <td>-0.227890</td>\n",
       "      <td>0</td>\n",
       "      <td>0</td>\n",
       "      <td>0</td>\n",
       "    </tr>\n",
       "    <tr>\n",
       "      <th>9031</th>\n",
       "      <td>0</td>\n",
       "      <td>4</td>\n",
       "      <td>0.96593</td>\n",
       "      <td>-0.25882</td>\n",
       "      <td>0.188230</td>\n",
       "      <td>0.98213</td>\n",
       "      <td>1251</td>\n",
       "      <td>0.467110</td>\n",
       "      <td>-10</td>\n",
       "      <td>394</td>\n",
       "      <td>4</td>\n",
       "    </tr>\n",
       "    <tr>\n",
       "      <th>5055</th>\n",
       "      <td>0</td>\n",
       "      <td>4</td>\n",
       "      <td>-0.70711</td>\n",
       "      <td>-0.70711</td>\n",
       "      <td>-0.455910</td>\n",
       "      <td>-0.89003</td>\n",
       "      <td>829</td>\n",
       "      <td>0.232660</td>\n",
       "      <td>-568</td>\n",
       "      <td>-56</td>\n",
       "      <td>4</td>\n",
       "    </tr>\n",
       "    <tr>\n",
       "      <th>...</th>\n",
       "      <td>...</td>\n",
       "      <td>...</td>\n",
       "      <td>...</td>\n",
       "      <td>...</td>\n",
       "      <td>...</td>\n",
       "      <td>...</td>\n",
       "      <td>...</td>\n",
       "      <td>...</td>\n",
       "      <td>...</td>\n",
       "      <td>...</td>\n",
       "      <td>...</td>\n",
       "    </tr>\n",
       "    <tr>\n",
       "      <th>16571</th>\n",
       "      <td>0</td>\n",
       "      <td>4</td>\n",
       "      <td>0.25882</td>\n",
       "      <td>-0.96593</td>\n",
       "      <td>-0.635430</td>\n",
       "      <td>0.77216</td>\n",
       "      <td>0</td>\n",
       "      <td>-0.227890</td>\n",
       "      <td>0</td>\n",
       "      <td>0</td>\n",
       "      <td>0</td>\n",
       "    </tr>\n",
       "    <tr>\n",
       "      <th>13946</th>\n",
       "      <td>0</td>\n",
       "      <td>4</td>\n",
       "      <td>0.50000</td>\n",
       "      <td>0.86603</td>\n",
       "      <td>-0.545240</td>\n",
       "      <td>-0.83828</td>\n",
       "      <td>673</td>\n",
       "      <td>0.146000</td>\n",
       "      <td>-395</td>\n",
       "      <td>-287</td>\n",
       "      <td>4</td>\n",
       "    </tr>\n",
       "    <tr>\n",
       "      <th>13295</th>\n",
       "      <td>0</td>\n",
       "      <td>4</td>\n",
       "      <td>-0.25882</td>\n",
       "      <td>0.96593</td>\n",
       "      <td>-0.094537</td>\n",
       "      <td>-0.99552</td>\n",
       "      <td>719</td>\n",
       "      <td>0.171550</td>\n",
       "      <td>-275</td>\n",
       "      <td>-295</td>\n",
       "      <td>4</td>\n",
       "    </tr>\n",
       "    <tr>\n",
       "      <th>13546</th>\n",
       "      <td>1</td>\n",
       "      <td>4</td>\n",
       "      <td>0.50000</td>\n",
       "      <td>-0.86603</td>\n",
       "      <td>-0.280230</td>\n",
       "      <td>-0.95993</td>\n",
       "      <td>597</td>\n",
       "      <td>0.103770</td>\n",
       "      <td>-831</td>\n",
       "      <td>-529</td>\n",
       "      <td>0</td>\n",
       "    </tr>\n",
       "    <tr>\n",
       "      <th>3460</th>\n",
       "      <td>1</td>\n",
       "      <td>4</td>\n",
       "      <td>0.86603</td>\n",
       "      <td>0.50000</td>\n",
       "      <td>0.615280</td>\n",
       "      <td>-0.78831</td>\n",
       "      <td>1364</td>\n",
       "      <td>0.529880</td>\n",
       "      <td>248</td>\n",
       "      <td>215</td>\n",
       "      <td>3</td>\n",
       "    </tr>\n",
       "  </tbody>\n",
       "</table>\n",
       "<p>17520 rows × 11 columns</p>\n",
       "</div>"
      ],
      "text/plain": [
       "       Occupancy  Appliance ID  Sin(time)  Cos(time)  Sin(day)  Cos(day)  \\\n",
       "10423          0             4    0.96593   -0.25882  0.927540   0.37372   \n",
       "1527           1             4   -0.70711   -0.70711  0.884070   0.46736   \n",
       "8361           0             4    0.70711   -0.70711 -0.288480   0.95749   \n",
       "9031           0             4    0.96593   -0.25882  0.188230   0.98213   \n",
       "5055           0             4   -0.70711   -0.70711 -0.455910  -0.89003   \n",
       "...          ...           ...        ...        ...       ...       ...   \n",
       "16571          0             4    0.25882   -0.96593 -0.635430   0.77216   \n",
       "13946          0             4    0.50000    0.86603 -0.545240  -0.83828   \n",
       "13295          0             4   -0.25882    0.96593 -0.094537  -0.99552   \n",
       "13546          1             4    0.50000   -0.86603 -0.280230  -0.95993   \n",
       "3460           1             4    0.86603    0.50000  0.615280  -0.78831   \n",
       "\n",
       "       Power consumption  Normalized power  P(t)-P(t-1)  P(t)-P(t+1)  \\\n",
       "10423                584          0.096551         -161         -779   \n",
       "1527                 775          0.202660          -62          -19   \n",
       "8361                   0         -0.227890            0            0   \n",
       "9031                1251          0.467110          -10          394   \n",
       "5055                 829          0.232660         -568          -56   \n",
       "...                  ...               ...          ...          ...   \n",
       "16571                  0         -0.227890            0            0   \n",
       "13946                673          0.146000         -395         -287   \n",
       "13295                719          0.171550         -275         -295   \n",
       "13546                597          0.103770         -831         -529   \n",
       "3460                1364          0.529880          248          215   \n",
       "\n",
       "       Class Label  \n",
       "10423            4  \n",
       "1527             0  \n",
       "8361             0  \n",
       "9031             4  \n",
       "5055             4  \n",
       "...            ...  \n",
       "16571            0  \n",
       "13946            4  \n",
       "13295            4  \n",
       "13546            0  \n",
       "3460             3  \n",
       "\n",
       "[17520 rows x 11 columns]"
      ]
     },
     "execution_count": 7,
     "metadata": {},
     "output_type": "execute_result"
    }
   ],
   "source": [
    "shuffle(df)"
   ]
  },
  {
   "cell_type": "code",
   "execution_count": 8,
   "id": "6d8a3d40",
   "metadata": {},
   "outputs": [],
   "source": [
    "# Split the data into train and test sets\n",
    "train_size = int(len(df)*0.8)\n",
    "train, test = df.iloc[:train_size],df.iloc[train_size:]"
   ]
  },
  {
   "cell_type": "code",
   "execution_count": 9,
   "id": "09d36d1b",
   "metadata": {},
   "outputs": [],
   "source": [
    "# Split train and test sets into predictors (X) and outcome (y) variables\n",
    "x_train = train.drop('Class Label', axis = 1)\n",
    "y_train = train.loc[:,['Class Label']]\n",
    "x_test = test.drop('Class Label', axis = 1)\n",
    "y_test = test.loc[:,['Class Label']]"
   ]
  },
  {
   "cell_type": "code",
   "execution_count": 10,
   "id": "ce541128",
   "metadata": {},
   "outputs": [],
   "source": [
    "# Scale the X data \n",
    "scaler_x = MinMaxScaler(feature_range = (0,1))\n",
    "input_scaler = scaler_x.fit(x_train)\n",
    "train_x_norm = input_scaler.transform(x_train)\n",
    "test_x_norm = input_scaler.transform(x_test)"
   ]
  },
  {
   "cell_type": "code",
   "execution_count": 11,
   "id": "b2d2be5d",
   "metadata": {},
   "outputs": [],
   "source": [
    "# One-hot encode y data\n",
    "y_train = to_categorical(y_train)\n",
    "y_test = to_categorical(y_test)"
   ]
  },
  {
   "cell_type": "code",
   "execution_count": 12,
   "id": "66cf1d05",
   "metadata": {},
   "outputs": [
    {
     "data": {
      "text/plain": [
       "((14016, 10), (3504, 10), (14016, 5), (3504, 5))"
      ]
     },
     "execution_count": 12,
     "metadata": {},
     "output_type": "execute_result"
    }
   ],
   "source": [
    "x_train.shape, x_test.shape, y_train.shape, y_test.shape"
   ]
  },
  {
   "cell_type": "code",
   "execution_count": 13,
   "id": "8188b677",
   "metadata": {},
   "outputs": [],
   "source": [
    "x_train=np.array(x_train)\n",
    "y_train=np.array(y_train)\n",
    "x_test=np.array(x_test)\n",
    "y_test=np.array(y_test)"
   ]
  },
  {
   "cell_type": "code",
   "execution_count": 14,
   "id": "fb2196c2",
   "metadata": {},
   "outputs": [],
   "source": [
    "x_train = x_train.reshape(x_train.shape[0],x_train.shape[1], 1)\n",
    "x_test = x_test.reshape(x_test.shape[0], x_test.shape[1], 1)"
   ]
  },
  {
   "cell_type": "code",
   "execution_count": 15,
   "id": "c79d2f1d",
   "metadata": {},
   "outputs": [
    {
     "data": {
      "text/plain": [
       "((14016, 10, 1), (3504, 10, 1), (14016, 5), (3504, 5))"
      ]
     },
     "execution_count": 15,
     "metadata": {},
     "output_type": "execute_result"
    }
   ],
   "source": [
    "x_train.shape,x_test.shape,y_train.shape,y_test.shape"
   ]
  },
  {
   "cell_type": "code",
   "execution_count": 16,
   "id": "bd34113a",
   "metadata": {},
   "outputs": [],
   "source": [
    "verbose, epochs, batch_size = 1, 50, 32\n",
    "n_timesteps, n_features = x_train.shape[1], x_train.shape[2]"
   ]
  },
  {
   "cell_type": "code",
   "execution_count": 17,
   "id": "825dc0a3",
   "metadata": {},
   "outputs": [],
   "source": [
    "# Define the model architecture\n",
    "model = Sequential()\n",
    "model.add(Conv1D(filters=16, kernel_size=3, activation='relu', input_shape=(10, 1)))\n",
    "model.add(Conv1D(filters=16, kernel_size=3, activation='relu'))\n",
    "model.add(Conv1D(filters=16, kernel_size=3, activation='relu'))\n",
    "model.add(GlobalMaxPooling1D())\n",
    "model.add(Dense(64, activation='relu'))\n",
    "model.add(Dropout(0.1))\n",
    "model.add(Dense(5, activation='softmax'))"
   ]
  },
  {
   "cell_type": "code",
   "execution_count": 18,
   "id": "eddbbd97",
   "metadata": {},
   "outputs": [
    {
     "name": "stdout",
     "output_type": "stream",
     "text": [
      "Model: \"sequential\"\n",
      "_________________________________________________________________\n",
      " Layer (type)                Output Shape              Param #   \n",
      "=================================================================\n",
      " conv1d (Conv1D)             (None, 8, 16)             64        \n",
      "                                                                 \n",
      " conv1d_1 (Conv1D)           (None, 6, 16)             784       \n",
      "                                                                 \n",
      " conv1d_2 (Conv1D)           (None, 4, 16)             784       \n",
      "                                                                 \n",
      " global_max_pooling1d (Globa  (None, 16)               0         \n",
      " lMaxPooling1D)                                                  \n",
      "                                                                 \n",
      " dense (Dense)               (None, 64)                1088      \n",
      "                                                                 \n",
      " dropout (Dropout)           (None, 64)                0         \n",
      "                                                                 \n",
      " dense_1 (Dense)             (None, 5)                 325       \n",
      "                                                                 \n",
      "=================================================================\n",
      "Total params: 3,045\n",
      "Trainable params: 3,045\n",
      "Non-trainable params: 0\n",
      "_________________________________________________________________\n"
     ]
    }
   ],
   "source": [
    "model.summary()"
   ]
  },
  {
   "cell_type": "code",
   "execution_count": 19,
   "id": "c669bf7a",
   "metadata": {},
   "outputs": [],
   "source": [
    "#compile the model\n",
    "model.compile(loss='categorical_crossentropy', optimizer='adam', metrics=['accuracy'])"
   ]
  },
  {
   "cell_type": "code",
   "execution_count": 20,
   "id": "efa9936a",
   "metadata": {
    "scrolled": true
   },
   "outputs": [
    {
     "name": "stdout",
     "output_type": "stream",
     "text": [
      "Epoch 1/50\n",
      "438/438 [==============================] - 1s 1ms/step - loss: 3.3089 - accuracy: 0.5657\n",
      "Epoch 2/50\n",
      "438/438 [==============================] - 0s 1ms/step - loss: 0.6012 - accuracy: 0.7075\n",
      "Epoch 3/50\n",
      "438/438 [==============================] - 0s 1ms/step - loss: 0.2308 - accuracy: 0.9045\n",
      "Epoch 4/50\n",
      "438/438 [==============================] - 0s 1ms/step - loss: 0.1729 - accuracy: 0.9233\n",
      "Epoch 5/50\n",
      "438/438 [==============================] - 0s 989us/step - loss: 0.1431 - accuracy: 0.9376\n",
      "Epoch 6/50\n",
      "438/438 [==============================] - 0s 995us/step - loss: 0.1383 - accuracy: 0.9399\n",
      "Epoch 7/50\n",
      "438/438 [==============================] - 0s 1ms/step - loss: 0.1008 - accuracy: 0.9580\n",
      "Epoch 8/50\n",
      "438/438 [==============================] - 0s 1ms/step - loss: 0.0820 - accuracy: 0.9646\n",
      "Epoch 9/50\n",
      "438/438 [==============================] - 0s 1ms/step - loss: 0.0914 - accuracy: 0.9628\n",
      "Epoch 10/50\n",
      "438/438 [==============================] - 0s 985us/step - loss: 0.0627 - accuracy: 0.9750\n",
      "Epoch 11/50\n",
      "438/438 [==============================] - 0s 984us/step - loss: 0.0712 - accuracy: 0.9692\n",
      "Epoch 12/50\n",
      "438/438 [==============================] - 0s 1ms/step - loss: 0.0710 - accuracy: 0.9714\n",
      "Epoch 13/50\n",
      "438/438 [==============================] - 0s 1ms/step - loss: 0.0630 - accuracy: 0.9744\n",
      "Epoch 14/50\n",
      "438/438 [==============================] - 0s 1ms/step - loss: 0.0523 - accuracy: 0.9787\n",
      "Epoch 15/50\n",
      "438/438 [==============================] - 0s 1ms/step - loss: 0.0415 - accuracy: 0.9824\n",
      "Epoch 16/50\n",
      "438/438 [==============================] - 0s 1ms/step - loss: 0.0759 - accuracy: 0.9710\n",
      "Epoch 17/50\n",
      "438/438 [==============================] - 0s 1ms/step - loss: 0.0741 - accuracy: 0.9721\n",
      "Epoch 18/50\n",
      "438/438 [==============================] - 0s 994us/step - loss: 0.0526 - accuracy: 0.9774\n",
      "Epoch 19/50\n",
      "438/438 [==============================] - 0s 988us/step - loss: 0.0378 - accuracy: 0.9850\n",
      "Epoch 20/50\n",
      "438/438 [==============================] - 0s 988us/step - loss: 0.0432 - accuracy: 0.9811\n",
      "Epoch 21/50\n",
      "438/438 [==============================] - 0s 981us/step - loss: 0.0409 - accuracy: 0.9837\n",
      "Epoch 22/50\n",
      "438/438 [==============================] - 0s 995us/step - loss: 0.0576 - accuracy: 0.9778\n",
      "Epoch 23/50\n",
      "438/438 [==============================] - 0s 990us/step - loss: 0.0662 - accuracy: 0.9742\n",
      "Epoch 24/50\n",
      "438/438 [==============================] - 0s 976us/step - loss: 0.0472 - accuracy: 0.9797\n",
      "Epoch 25/50\n",
      "438/438 [==============================] - 0s 960us/step - loss: 0.0339 - accuracy: 0.9861\n",
      "Epoch 26/50\n",
      "438/438 [==============================] - 0s 984us/step - loss: 0.0525 - accuracy: 0.9767\n",
      "Epoch 27/50\n",
      "438/438 [==============================] - 0s 984us/step - loss: 0.0414 - accuracy: 0.9828\n",
      "Epoch 28/50\n",
      "438/438 [==============================] - 0s 975us/step - loss: 0.0331 - accuracy: 0.9866\n",
      "Epoch 29/50\n",
      "438/438 [==============================] - 0s 999us/step - loss: 0.0372 - accuracy: 0.9849\n",
      "Epoch 30/50\n",
      "438/438 [==============================] - 0s 992us/step - loss: 0.0380 - accuracy: 0.9845\n",
      "Epoch 31/50\n",
      "438/438 [==============================] - 0s 989us/step - loss: 0.0504 - accuracy: 0.9823\n",
      "Epoch 32/50\n",
      "438/438 [==============================] - 0s 1ms/step - loss: 0.0442 - accuracy: 0.9826\n",
      "Epoch 33/50\n",
      "438/438 [==============================] - 0s 985us/step - loss: 0.0351 - accuracy: 0.9870\n",
      "Epoch 34/50\n",
      "438/438 [==============================] - 0s 983us/step - loss: 0.0419 - accuracy: 0.9838\n",
      "Epoch 35/50\n",
      "438/438 [==============================] - 0s 985us/step - loss: 0.0356 - accuracy: 0.9855\n",
      "Epoch 36/50\n",
      "438/438 [==============================] - 0s 981us/step - loss: 0.0570 - accuracy: 0.9822\n",
      "Epoch 37/50\n",
      "438/438 [==============================] - 0s 1ms/step - loss: 0.0417 - accuracy: 0.9866\n",
      "Epoch 38/50\n",
      "438/438 [==============================] - 0s 1ms/step - loss: 0.0277 - accuracy: 0.9894\n",
      "Epoch 39/50\n",
      "438/438 [==============================] - 0s 1ms/step - loss: 0.0306 - accuracy: 0.9887\n",
      "Epoch 40/50\n",
      "438/438 [==============================] - 0s 1ms/step - loss: 0.0417 - accuracy: 0.9847\n",
      "Epoch 41/50\n",
      "438/438 [==============================] - 0s 986us/step - loss: 0.0369 - accuracy: 0.9867\n",
      "Epoch 42/50\n",
      "438/438 [==============================] - 0s 993us/step - loss: 0.0455 - accuracy: 0.9841\n",
      "Epoch 43/50\n",
      "438/438 [==============================] - 0s 991us/step - loss: 0.0330 - accuracy: 0.9855\n",
      "Epoch 44/50\n",
      "438/438 [==============================] - 0s 987us/step - loss: 0.0371 - accuracy: 0.9864\n",
      "Epoch 45/50\n",
      "438/438 [==============================] - 0s 981us/step - loss: 0.0325 - accuracy: 0.9886\n",
      "Epoch 46/50\n",
      "438/438 [==============================] - 0s 975us/step - loss: 0.0296 - accuracy: 0.9876\n",
      "Epoch 47/50\n",
      "438/438 [==============================] - 0s 1ms/step - loss: 0.0295 - accuracy: 0.9883\n",
      "Epoch 48/50\n",
      "438/438 [==============================] - 0s 990us/step - loss: 0.0333 - accuracy: 0.9862\n",
      "Epoch 49/50\n",
      "438/438 [==============================] - 0s 995us/step - loss: 0.0275 - accuracy: 0.9899\n",
      "Epoch 50/50\n",
      "438/438 [==============================] - 0s 1ms/step - loss: 0.0267 - accuracy: 0.9890\n"
     ]
    },
    {
     "data": {
      "text/plain": [
       "<keras.callbacks.History at 0x1fcde2acd30>"
      ]
     },
     "execution_count": 20,
     "metadata": {},
     "output_type": "execute_result"
    }
   ],
   "source": [
    "#fit the model\n",
    "model.fit(x_train, y_train, epochs=epochs, batch_size=batch_size, verbose=verbose)"
   ]
  },
  {
   "cell_type": "code",
   "execution_count": 21,
   "id": "e26d9ee1",
   "metadata": {},
   "outputs": [
    {
     "name": "stdout",
     "output_type": "stream",
     "text": [
      "110/110 [==============================] - 0s 713us/step - loss: 0.0091 - accuracy: 0.9986\n"
     ]
    }
   ],
   "source": [
    "_, accuracy = model.evaluate(x_test, y_test, batch_size=batch_size, verbose=verbose)\n",
    "#  return accuracy"
   ]
  },
  {
   "cell_type": "code",
   "execution_count": 22,
   "id": "9502b3e7",
   "metadata": {},
   "outputs": [
    {
     "data": {
      "text/plain": [
       "0.9985730648040771"
      ]
     },
     "execution_count": 22,
     "metadata": {},
     "output_type": "execute_result"
    }
   ],
   "source": [
    "accuracy"
   ]
  },
  {
   "cell_type": "code",
   "execution_count": 23,
   "id": "8dbc03e2",
   "metadata": {},
   "outputs": [
    {
     "name": "stdout",
     "output_type": "stream",
     "text": [
      "110/110 [==============================] - 0s 656us/step\n"
     ]
    }
   ],
   "source": [
    "prediction = model.predict(x_test)"
   ]
  },
  {
   "cell_type": "code",
   "execution_count": 24,
   "id": "81f3c6d0",
   "metadata": {},
   "outputs": [],
   "source": [
    "# prediction[1]"
   ]
  },
  {
   "cell_type": "code",
   "execution_count": 25,
   "id": "fe244d96",
   "metadata": {},
   "outputs": [
    {
     "data": {
      "text/plain": [
       "array([[0., 0., 1., 0., 0.],\n",
       "       [0., 1., 0., 0., 0.],\n",
       "       [0., 0., 0., 0., 1.],\n",
       "       ...,\n",
       "       [0., 0., 0., 0., 1.],\n",
       "       [0., 0., 1., 0., 0.],\n",
       "       [1., 0., 0., 0., 0.]], dtype=float32)"
      ]
     },
     "execution_count": 25,
     "metadata": {},
     "output_type": "execute_result"
    }
   ],
   "source": [
    "y_test"
   ]
  },
  {
   "cell_type": "code",
   "execution_count": 26,
   "id": "6cf4e24c",
   "metadata": {},
   "outputs": [],
   "source": [
    "# prediction_NN = np.argmax(prediction[1], axis=-1)"
   ]
  },
  {
   "cell_type": "code",
   "execution_count": 27,
   "id": "74f359b1",
   "metadata": {},
   "outputs": [],
   "source": [
    "prediction_NN=np.argmax(prediction, axis=-1)"
   ]
  },
  {
   "cell_type": "code",
   "execution_count": 28,
   "id": "1c390d0e",
   "metadata": {},
   "outputs": [
    {
     "data": {
      "text/plain": [
       "array([2, 1, 4, ..., 4, 2, 0], dtype=int64)"
      ]
     },
     "execution_count": 28,
     "metadata": {},
     "output_type": "execute_result"
    }
   ],
   "source": [
    "prediction_NN"
   ]
  },
  {
   "cell_type": "code",
   "execution_count": 29,
   "id": "d7e31561",
   "metadata": {},
   "outputs": [],
   "source": [
    "y_test1 = test.loc[:,['Class Label']]"
   ]
  },
  {
   "cell_type": "code",
   "execution_count": 30,
   "id": "2f590454",
   "metadata": {},
   "outputs": [],
   "source": [
    "y_test1=np.array(y_test1)"
   ]
  },
  {
   "cell_type": "code",
   "execution_count": 31,
   "id": "b3b93ce8",
   "metadata": {},
   "outputs": [
    {
     "data": {
      "text/plain": [
       "array([[2],\n",
       "       [1],\n",
       "       [4],\n",
       "       ...,\n",
       "       [4],\n",
       "       [2],\n",
       "       [0]], dtype=int64)"
      ]
     },
     "execution_count": 31,
     "metadata": {},
     "output_type": "execute_result"
    }
   ],
   "source": [
    "y_test1"
   ]
  },
  {
   "cell_type": "code",
   "execution_count": 32,
   "id": "9cf6e1fa",
   "metadata": {},
   "outputs": [
    {
     "name": "stdout",
     "output_type": "stream",
     "text": [
      "Accuracy =  0.9985730593607306\n"
     ]
    }
   ],
   "source": [
    "from sklearn import metrics\n",
    "print (\"Accuracy = \", metrics.accuracy_score(y_test1, prediction_NN))"
   ]
  },
  {
   "cell_type": "code",
   "execution_count": 33,
   "id": "ca70189b",
   "metadata": {},
   "outputs": [
    {
     "name": "stdout",
     "output_type": "stream",
     "text": [
      "[[1711    0    0    4    0]\n",
      " [   0  185    0    0    0]\n",
      " [   0    0  186    0    0]\n",
      " [   0    0    0  343    1]\n",
      " [   0    0    0    0 1074]]\n"
     ]
    }
   ],
   "source": [
    "#Confusion Matrix - verify accuracy of each class\n",
    "from sklearn.metrics import confusion_matrix\n",
    "cm = confusion_matrix(y_test1, prediction_NN)\n",
    "print(cm)"
   ]
  },
  {
   "cell_type": "code",
   "execution_count": 34,
   "id": "67ac2fe4",
   "metadata": {},
   "outputs": [
    {
     "name": "stdout",
     "output_type": "stream",
     "text": [
      "              precision    recall  f1-score   support\n",
      "\n",
      "     Class 0      1.000     0.998     0.999      1715\n",
      "     Class 1      1.000     1.000     1.000       185\n",
      "     Class 2      1.000     1.000     1.000       186\n",
      "     Class 3      0.988     0.997     0.993       344\n",
      "     Class 4      0.999     1.000     1.000      1074\n",
      "\n",
      "    accuracy                          0.999      3504\n",
      "   macro avg      0.998     0.999     0.998      3504\n",
      "weighted avg      0.999     0.999     0.999      3504\n",
      "\n"
     ]
    }
   ],
   "source": [
    "from sklearn.metrics import classification_report\n",
    "\n",
    "# print(class_labels)\n",
    "target_names = ['Class 0', 'Class 1', 'Class 2', 'Class 3', 'Class 4']\n",
    "print(classification_report(y_test1, prediction_NN, target_names=target_names,digits=3))"
   ]
  },
  {
   "cell_type": "code",
   "execution_count": 35,
   "id": "0e44d773",
   "metadata": {},
   "outputs": [],
   "source": [
    "# !pip install mlxtend"
   ]
  },
  {
   "cell_type": "code",
   "execution_count": 36,
   "id": "6701627a",
   "metadata": {},
   "outputs": [],
   "source": [
    "# from mlxtend.plotting import plot_confusion_matrix"
   ]
  },
  {
   "cell_type": "code",
   "execution_count": 37,
   "id": "48745b9a",
   "metadata": {},
   "outputs": [],
   "source": [
    "# class_dict = {0: 'Class 0',\n",
    "#               1: 'Class 1',\n",
    "#               2: 'Class 2',\n",
    "#               3: 'Class 3',\n",
    "#               4: 'Class 4'}\n",
    "\n",
    "# multiclass = np.array([[9926,   67,   19,   56,    0],\n",
    "#                        [178,  855,    0,   41,   40],\n",
    "#                        [268,    0,  848,    0,    0],\n",
    "#                        [27,   16,    0, 2326,   15],\n",
    "#                        [0,    1,    0,   36, 6305]])\n",
    "\n",
    "# fig, ax = plot_confusion_matrix(\n",
    "#     conf_mat=multiclass,\n",
    "#     class_names=class_dict.values(),show_absolute=False,show_normed=True,colorbar=True)"
   ]
  }
 ],
 "metadata": {
  "kernelspec": {
   "display_name": "Python 3 (ipykernel)",
   "language": "python",
   "name": "python3"
  },
  "language_info": {
   "codemirror_mode": {
    "name": "ipython",
    "version": 3
   },
   "file_extension": ".py",
   "mimetype": "text/x-python",
   "name": "python",
   "nbconvert_exporter": "python",
   "pygments_lexer": "ipython3",
   "version": "3.9.13"
  }
 },
 "nbformat": 4,
 "nbformat_minor": 5
}
